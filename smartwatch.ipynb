{
 "cells": [
  {
   "cell_type": "markdown",
   "metadata": {},
   "source": [
    "# Описание данных:\n",
    "\n",
    "Данные содержат информацию о показателях здоровья, собранных с умных часов.\n",
    "\n",
    "## Структура данных:\n",
    "\n",
    "| Название столбца            | Описание                                        |\n",
    "|-----------------------------|-------------------------------------------------|\n",
    "| **User ID**                 | Уникальный идентификатор пользователя           |\n",
    "| **Heart Rate (BPM)**        | Частота сердечных сокращений (ударов в минуту)  |\n",
    "| **Blood Oxygen Level (%)**  | Уровень насыщения крови кислородом              |\n",
    "| **Step Count**              | Количество шагов за период                      |\n",
    "| **Sleep Duration (hours)**  | Продолжительность сна в часах                   |\n",
    "| **Activity Level**          | Уровень активности пользователя                 |\n",
    "| **Stress Level**            | Уровень стресса (шкала от 1 до 10)              |"
   ]
  }
 ],
 "metadata": {
  "kernelspec": {
   "display_name": "Python 3",
   "language": "python",
   "name": "python3"
  },
  "language_info": {
   "codemirror_mode": {
    "name": "ipython",
    "version": 3
   },
   "file_extension": ".py",
   "mimetype": "text/x-python",
   "name": "python",
   "nbconvert_exporter": "python",
   "pygments_lexer": "ipython3",
   "version": "3.7.9"
  }
 },
 "nbformat": 4,
 "nbformat_minor": 2
}
