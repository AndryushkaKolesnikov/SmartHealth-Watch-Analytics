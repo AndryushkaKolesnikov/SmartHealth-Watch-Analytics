{
 "cells": [
  {
   "cell_type": "markdown",
   "metadata": {},
   "source": [
    "# Описание данных:\n",
    "\n",
    "Данные содержат информацию о показателях здоровья, собранных с умных часов.\n",
    "\n",
    "### Структура данных:\n",
    "\n",
    "| Название столбца            | Описание                                        |\n",
    "|-----------------------------|-------------------------------------------------|\n",
    "| **User ID**                 | Уникальный идентификатор пользователя           |\n",
    "| **Heart Rate (BPM)**        | Частота сердечных сокращений (ударов в минуту)  |\n",
    "| **Blood Oxygen Level (%)**  | Уровень насыщения крови кислородом              |\n",
    "| **Step Count**              | Количество шагов за период                      |\n",
    "| **Sleep Duration (hours)**  | Продолжительность сна в часах                   |\n",
    "| **Activity Level**          | Уровень активности пользователя                 |\n",
    "| **Stress Level**            | Уровень стресса (шкала от 1 до 10)              |\n",
    "\n",
    "Данный датасет взят с сайта https://www.kaggle.com/datasets/mohammedarfathr/smartwatch-health-data-uncleaned/data"
   ]
  },
  {
   "cell_type": "markdown",
   "metadata": {},
   "source": [
    "# Подключение библиотек"
   ]
  },
  {
   "cell_type": "code",
   "execution_count": 4,
   "metadata": {},
   "outputs": [],
   "source": [
    "# подключение библиотеки pandas\n",
    "import pandas as pd \n",
    "\n",
    "import matplotlib.pyplot as plt"
   ]
  },
  {
   "cell_type": "markdown",
   "metadata": {},
   "source": [
    "# Чтение и вывод данных"
   ]
  },
  {
   "cell_type": "code",
   "execution_count": null,
   "metadata": {},
   "outputs": [
    {
     "data": {
      "text/html": [
       "<div>\n",
       "<style scoped>\n",
       "    .dataframe tbody tr th:only-of-type {\n",
       "        vertical-align: middle;\n",
       "    }\n",
       "\n",
       "    .dataframe tbody tr th {\n",
       "        vertical-align: top;\n",
       "    }\n",
       "\n",
       "    .dataframe thead th {\n",
       "        text-align: right;\n",
       "    }\n",
       "</style>\n",
       "<table border=\"1\" class=\"dataframe\">\n",
       "  <thead>\n",
       "    <tr style=\"text-align: right;\">\n",
       "      <th></th>\n",
       "      <th>User ID</th>\n",
       "      <th>Heart Rate (BPM)</th>\n",
       "      <th>Blood Oxygen Level (%)</th>\n",
       "      <th>Step Count</th>\n",
       "      <th>Sleep Duration (hours)</th>\n",
       "      <th>Activity Level</th>\n",
       "      <th>Stress Level</th>\n",
       "    </tr>\n",
       "  </thead>\n",
       "  <tbody>\n",
       "    <tr>\n",
       "      <th>0</th>\n",
       "      <td>4174.0</td>\n",
       "      <td>58.939776</td>\n",
       "      <td>98.809650</td>\n",
       "      <td>5450.390578</td>\n",
       "      <td>7.167235622316564</td>\n",
       "      <td>Highly Active</td>\n",
       "      <td>1</td>\n",
       "    </tr>\n",
       "    <tr>\n",
       "      <th>1</th>\n",
       "      <td>NaN</td>\n",
       "      <td>NaN</td>\n",
       "      <td>98.532195</td>\n",
       "      <td>727.601610</td>\n",
       "      <td>6.538239375570314</td>\n",
       "      <td>Highly_Active</td>\n",
       "      <td>5</td>\n",
       "    </tr>\n",
       "    <tr>\n",
       "      <th>2</th>\n",
       "      <td>1860.0</td>\n",
       "      <td>247.803052</td>\n",
       "      <td>97.052954</td>\n",
       "      <td>2826.521994</td>\n",
       "      <td>ERROR</td>\n",
       "      <td>Highly Active</td>\n",
       "      <td>5</td>\n",
       "    </tr>\n",
       "    <tr>\n",
       "      <th>3</th>\n",
       "      <td>2294.0</td>\n",
       "      <td>40.000000</td>\n",
       "      <td>96.894213</td>\n",
       "      <td>13797.338044</td>\n",
       "      <td>7.367789630207228</td>\n",
       "      <td>Actve</td>\n",
       "      <td>3</td>\n",
       "    </tr>\n",
       "    <tr>\n",
       "      <th>4</th>\n",
       "      <td>2130.0</td>\n",
       "      <td>61.950165</td>\n",
       "      <td>98.583797</td>\n",
       "      <td>15679.067648</td>\n",
       "      <td>NaN</td>\n",
       "      <td>Highly_Active</td>\n",
       "      <td>6</td>\n",
       "    </tr>\n",
       "    <tr>\n",
       "      <th>...</th>\n",
       "      <td>...</td>\n",
       "      <td>...</td>\n",
       "      <td>...</td>\n",
       "      <td>...</td>\n",
       "      <td>...</td>\n",
       "      <td>...</td>\n",
       "      <td>...</td>\n",
       "    </tr>\n",
       "    <tr>\n",
       "      <th>9995</th>\n",
       "      <td>1524.0</td>\n",
       "      <td>78.819386</td>\n",
       "      <td>98.931927</td>\n",
       "      <td>2948.491953</td>\n",
       "      <td>7.402748595032027</td>\n",
       "      <td>Active</td>\n",
       "      <td>7</td>\n",
       "    </tr>\n",
       "    <tr>\n",
       "      <th>9996</th>\n",
       "      <td>4879.0</td>\n",
       "      <td>48.632659</td>\n",
       "      <td>95.773035</td>\n",
       "      <td>4725.623070</td>\n",
       "      <td>6.3821659358529015</td>\n",
       "      <td>Sedentary</td>\n",
       "      <td>2</td>\n",
       "    </tr>\n",
       "    <tr>\n",
       "      <th>9997</th>\n",
       "      <td>2624.0</td>\n",
       "      <td>73.834442</td>\n",
       "      <td>97.945874</td>\n",
       "      <td>2571.492060</td>\n",
       "      <td>6.91654920303435</td>\n",
       "      <td>Sedentary</td>\n",
       "      <td>4</td>\n",
       "    </tr>\n",
       "    <tr>\n",
       "      <th>9998</th>\n",
       "      <td>4907.0</td>\n",
       "      <td>NaN</td>\n",
       "      <td>98.401058</td>\n",
       "      <td>3364.788855</td>\n",
       "      <td>5.691233932149209</td>\n",
       "      <td>Active</td>\n",
       "      <td>8</td>\n",
       "    </tr>\n",
       "    <tr>\n",
       "      <th>9999</th>\n",
       "      <td>4113.0</td>\n",
       "      <td>70.063864</td>\n",
       "      <td>98.475606</td>\n",
       "      <td>544.696104</td>\n",
       "      <td>5.691001039740254</td>\n",
       "      <td>Actve</td>\n",
       "      <td>5</td>\n",
       "    </tr>\n",
       "  </tbody>\n",
       "</table>\n",
       "<p>10000 rows × 7 columns</p>\n",
       "</div>"
      ],
      "text/plain": [
       "      User ID  Heart Rate (BPM)  Blood Oxygen Level (%)    Step Count  \\\n",
       "0      4174.0         58.939776               98.809650   5450.390578   \n",
       "1         NaN               NaN               98.532195    727.601610   \n",
       "2      1860.0        247.803052               97.052954   2826.521994   \n",
       "3      2294.0         40.000000               96.894213  13797.338044   \n",
       "4      2130.0         61.950165               98.583797  15679.067648   \n",
       "...       ...               ...                     ...           ...   \n",
       "9995   1524.0         78.819386               98.931927   2948.491953   \n",
       "9996   4879.0         48.632659               95.773035   4725.623070   \n",
       "9997   2624.0         73.834442               97.945874   2571.492060   \n",
       "9998   4907.0               NaN               98.401058   3364.788855   \n",
       "9999   4113.0         70.063864               98.475606    544.696104   \n",
       "\n",
       "     Sleep Duration (hours) Activity Level Stress Level  \n",
       "0         7.167235622316564  Highly Active            1  \n",
       "1         6.538239375570314  Highly_Active            5  \n",
       "2                     ERROR  Highly Active            5  \n",
       "3         7.367789630207228          Actve            3  \n",
       "4                       NaN  Highly_Active            6  \n",
       "...                     ...            ...          ...  \n",
       "9995      7.402748595032027         Active            7  \n",
       "9996     6.3821659358529015      Sedentary            2  \n",
       "9997       6.91654920303435      Sedentary            4  \n",
       "9998      5.691233932149209         Active            8  \n",
       "9999      5.691001039740254          Actve            5  \n",
       "\n",
       "[10000 rows x 7 columns]"
      ]
     },
     "execution_count": 2,
     "metadata": {},
     "output_type": "execute_result"
    }
   ],
   "source": [
    "# читаем исходный DataFrame (df) из файла\n",
    "df = pd.read_csv(\"data/unclean_smartwatch_health_data.csv\")\n",
    "df"
   ]
  },
  {
   "cell_type": "markdown",
   "metadata": {},
   "source": [
    "# Группировка данных"
   ]
  },
  {
   "cell_type": "code",
   "execution_count": 69,
   "metadata": {},
   "outputs": [],
   "source": [
    "#  Создаем копию исходного DataFrame (df) для дальнейшей обработки.\n",
    "df_copy = df.copy()"
   ]
  },
  {
   "cell_type": "markdown",
   "metadata": {},
   "source": [
    "### Подсчет количества отсутствующих значений"
   ]
  },
  {
   "cell_type": "code",
   "execution_count": 70,
   "metadata": {},
   "outputs": [
    {
     "name": "stdout",
     "output_type": "stream",
     "text": [
      "User ID                        201   2.01%\n",
      "Heart Rate (BPM)               400   4.0%\n",
      "Blood Oxygen Level (%)         300   3.0%\n",
      "Step Count                     100   1.0%\n",
      "Sleep Duration (hours)         150   1.5%\n",
      "Activity Level                 200   2.0%\n",
      "Stress Level                   200   2.0%\n"
     ]
    }
   ],
   "source": [
    "for i in range(7):\n",
    "    num = df.iloc[:, i].isnull().sum()  # вычисление числа отсутствующих значений для каждого столбца\n",
    "    # вывод названия столбца, количества остутствующих значений и отношение количества пропущенных значений к общему числу строк\n",
    "    print(list(df.columns)[i].ljust(30) + ' ' + str(num).ljust(5) + ' ' + str(num / 10000 * 100) + '%')"
   ]
  },
  {
   "cell_type": "markdown",
   "metadata": {},
   "source": [
    "### Группировка данных"
   ]
  },
  {
   "cell_type": "code",
   "execution_count": 71,
   "metadata": {},
   "outputs": [],
   "source": [
    "# Исправляем опечатки и приводим значения в столбце 'Activity Level' к корректному формату.\n",
    "df_copy['Activity Level'] = df_copy['Activity Level'].str.replace('Highly_Active', 'Highly Active') \n",
    "df_copy['Activity Level'] = df_copy['Activity Level'].str.replace('Seddentary', 'Sedentary')\n",
    "df_copy['Activity Level'] = df_copy['Activity Level'].str.replace('Actve', 'Active')"
   ]
  },
  {
   "cell_type": "markdown",
   "metadata": {},
   "source": [
    "### Разбиение числовых данных"
   ]
  },
  {
   "cell_type": "markdown",
   "metadata": {},
   "source": [
    "### Столбец Heart Rate (BPM)"
   ]
  },
  {
   "cell_type": "code",
   "execution_count": 72,
   "metadata": {},
   "outputs": [],
   "source": [
    "# Преобразуем столбец 'Heart Rate (BPM)' в числовой формат\n",
    "df_copy['Heart Rate (BPM)'] = pd.to_numeric(df_copy['Heart Rate (BPM)'], errors='coerce')  \n",
    "# Разделяем значения столбца 'Heart Rate (BPM)' на интервалы (диапазоны) с помощью функции pd.cut()\n",
    "df_copy['Heart Rate (BPM)'] = pd.cut(\n",
    "    df['Heart Rate (BPM)'],      # Столбец, который нужно разделить на интервалы\n",
    "    bins=[0, 50, 60, 70, 80 , 90, 100, 200, 300],              # Границы интервалов                             \n",
    "    labels=['0-50', '50-60', '60-70', '70-80', '80-90', '90-100', '100-200', '200+'],   # Метки для интервалов\n",
    "    right=False   # Указывает, что правая граница интервала не включается \n",
    ")"
   ]
  },
  {
   "cell_type": "markdown",
   "metadata": {},
   "source": [
    "### Столбец Blood Oxygen Level (%)"
   ]
  },
  {
   "cell_type": "code",
   "execution_count": 73,
   "metadata": {},
   "outputs": [],
   "source": [
    "# Преобразуем столбец 'Blood Oxygen Level (%)' в числовой формат\n",
    "df_copy['Blood Oxygen Level (%)'] = pd.to_numeric(df['Blood Oxygen Level (%)'], errors='coerce') \n",
    "# Разделяем значения столбца 'Blood Oxygen Level (%)' на интервалы (диапазоны) с помощью функции pd.cut()\n",
    "df_copy['Blood Oxygen Level (%)'] = pd.cut(\n",
    "    df['Blood Oxygen Level (%)'],     # Столбец, который нужно разделить на интервалы\n",
    "    bins = [90, 91, 92, 93, 94, 95, 96, 97, 98, 99, 100],     # Границы интервалов                                              \n",
    "    labels = ['90-91', '91-92', '92-93', '93-94', '94-95', '95-96', '96-97', '97-98', '98-99', '99-100'],    # Метки для интервалов\n",
    "    right = False    # Указывает, что правая граница интервала не включается \n",
    ")"
   ]
  },
  {
   "cell_type": "markdown",
   "metadata": {},
   "source": [
    "### Столбец Step Count"
   ]
  },
  {
   "cell_type": "code",
   "execution_count": 74,
   "metadata": {},
   "outputs": [],
   "source": [
    "# Преобразуем столбец 'Step Count' в числовой формат\n",
    "df_copy['Step Count'] = pd.to_numeric(df['Step Count'], errors='coerce')\n",
    "# Разделяем значения столбца 'Step Count' на интервалы (диапазоны) с помощью функции pd.cut()\n",
    "df_copy['Step Count'] = pd.cut(\n",
    "    df['Step Count'],   # Столбец, который нужно разделить на интервалы\n",
    "    bins=[0, 2000, 4000, 6000, 8000, 10000, 1000000],  # Границы интервалов\n",
    "    labels=['0-2000', '2000-4000', '4000-6000', '6000-8000', '8000-10000', '10000+'],  # Метки для интервалов\n",
    "    right=False  # Указывает, что правая граница интервала не включается\n",
    ")"
   ]
  },
  {
   "cell_type": "markdown",
   "metadata": {},
   "source": [
    "### Столбец Sleep Duration (hours)"
   ]
  },
  {
   "cell_type": "code",
   "execution_count": null,
   "metadata": {},
   "outputs": [],
   "source": [
    "# Преобразуем столбец 'Sleep Duration (hours)' в числовой формат.\n",
    "df_copy['Sleep Duration (hours)'] = pd.to_numeric(df_copy['Sleep Duration (hours)'], errors='coerce')\n",
    "# Разделяем значения столбца 'Sleep Duration (hours)' на интервалы (диапазоны) с помощью функции pd.cut()\n",
    "df_copy['Sleep Duration (hours)'] = pd.cut(\n",
    "    df_copy['Sleep Duration (hours)'],    # Столбец, который нужно разделить на интервалы\n",
    "    bins=[0, 1, 2, 3, 4, 5, 6, 7, 8, 9, 10, 100],         # Границы интервалов\n",
    "    labels=['0-1', '1-2', '2-3', '3-4', '4-5', '5-6', '6-7', '7-8', '8-9', '9-10', '10+'],       # Метки для интервалов\n",
    "    right=False   # Указывает, что правая граница интервала не включается\n",
    ")"
   ]
  },
  {
   "cell_type": "markdown",
   "metadata": {},
   "source": [
    "### Просмотр уникальные значений в каждом столбце"
   ]
  },
  {
   "cell_type": "code",
   "execution_count": 76,
   "metadata": {},
   "outputs": [
    {
     "name": "stdout",
     "output_type": "stream",
     "text": [
      "User ID\n",
      "NaN       201\n",
      "3773.0     10\n",
      "3708.0     10\n",
      "4854.0      9\n",
      "1684.0      9\n",
      "         ... \n",
      "2025.0      1\n",
      "4518.0      1\n",
      "2108.0      1\n",
      "2420.0      1\n",
      "1466.0      1\n",
      "Name: count, Length: 3635, dtype: int64\n",
      "--------------------------------------------------\n",
      "Heart Rate (BPM)\n",
      "70-80      2481\n",
      "60-70      2045\n",
      "80-90      2013\n",
      "50-60      1080\n",
      "90-100     1044\n",
      "100-200     469\n",
      "0-50        418\n",
      "NaN         400\n",
      "200+         50\n",
      "Name: count, dtype: int64\n",
      "--------------------------------------------------\n",
      "Blood Oxygen Level (%)\n",
      "97-98     1830\n",
      "NaN       1826\n",
      "98-99     1825\n",
      "99-100    1519\n",
      "96-97     1459\n",
      "95-96      895\n",
      "94-95      434\n",
      "93-94      163\n",
      "92-93       37\n",
      "91-92       11\n",
      "90-91        1\n",
      "Name: count, dtype: int64\n",
      "--------------------------------------------------\n",
      "Step Count\n",
      "0-2000        2455\n",
      "10000+        2391\n",
      "2000-4000     1793\n",
      "4000-6000     1422\n",
      "6000-8000     1044\n",
      "8000-10000     795\n",
      "NaN            100\n",
      "Name: count, dtype: int64\n",
      "--------------------------------------------------\n",
      "Sleep Duration (hours)\n",
      "6-7     2479\n",
      "5-6     2069\n",
      "7-8     1932\n",
      "8-9     1089\n",
      "4-5     1057\n",
      "9-10     421\n",
      "NaN      398\n",
      "3-4      383\n",
      "10+       86\n",
      "2-3       74\n",
      "1-2       11\n",
      "0-1        1\n",
      "Name: count, dtype: int64\n",
      "--------------------------------------------------\n",
      "Activity Level\n",
      "Sedentary        3333\n",
      "Active           3265\n",
      "Highly Active    3202\n",
      "NaN               200\n",
      "Name: count, dtype: int64\n",
      "--------------------------------------------------\n",
      "Stress Level\n",
      "2            1007\n",
      "7            1006\n",
      "6            1001\n",
      "3             995\n",
      "1             984\n",
      "9             976\n",
      "4             966\n",
      "10            954\n",
      "5             945\n",
      "8             917\n",
      "NaN           200\n",
      "Very High      49\n",
      "Name: count, dtype: int64\n",
      "--------------------------------------------------\n"
     ]
    }
   ],
   "source": [
    "# Проходим по всем столбцам DataFrame df_copy с помощью цикла for.\n",
    "for column in df_copy.columns:\n",
    "    #  Для каждого столбца вычисляем количество уникальных значений\n",
    "    value_counts = df_copy[column].value_counts(dropna = False) \n",
    "    print(value_counts)\n",
    "    print(\"-\" * 50)"
   ]
  },
  {
   "cell_type": "markdown",
   "metadata": {},
   "source": [
    "# Предварительная визуализация"
   ]
  },
  {
   "cell_type": "code",
   "execution_count": 1,
   "metadata": {},
   "outputs": [
    {
     "ename": "NameError",
     "evalue": "name 'df_copy' is not defined",
     "output_type": "error",
     "traceback": [
      "\u001b[31m---------------------------------------------------------------------------\u001b[39m",
      "\u001b[31mNameError\u001b[39m                                 Traceback (most recent call last)",
      "\u001b[36mCell\u001b[39m\u001b[36m \u001b[39m\u001b[32mIn[1]\u001b[39m\u001b[32m, line 1\u001b[39m\n\u001b[32m----> \u001b[39m\u001b[32m1\u001b[39m \u001b[43mdf_copy\u001b[49m[\u001b[33m'\u001b[39m\u001b[33mStep Count\u001b[39m\u001b[33m'\u001b[39m].hist(bins=\u001b[32m20\u001b[39m)\n\u001b[32m      2\u001b[39m plt.title(\u001b[33m'\u001b[39m\u001b[33mРаспределение количества шагов\u001b[39m\u001b[33m'\u001b[39m)\n\u001b[32m      3\u001b[39m plt.xlabel(\u001b[33m'\u001b[39m\u001b[33mШаги\u001b[39m\u001b[33m'\u001b[39m)\n",
      "\u001b[31mNameError\u001b[39m: name 'df_copy' is not defined"
     ]
    }
   ],
   "source": [
    "df_copy['Step Count'].hist(bins=20)\n",
    "plt.title('Распределение количества шагов')\n",
    "plt.xlabel('Шаги')\n",
    "plt.ylabel('Частота')\n",
    "plt.show()"
   ]
  }
 ],
 "metadata": {
  "kernelspec": {
   "display_name": ".venv",
   "language": "python",
   "name": "python3"
  },
  "language_info": {
   "codemirror_mode": {
    "name": "ipython",
    "version": 3
   },
   "file_extension": ".py",
   "mimetype": "text/x-python",
   "name": "python",
   "nbconvert_exporter": "python",
   "pygments_lexer": "ipython3",
   "version": "3.13.2"
  }
 },
 "nbformat": 4,
 "nbformat_minor": 2
}
