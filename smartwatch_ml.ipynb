{
 "cells": [
  {
   "cell_type": "markdown",
   "id": "9c9390c3",
   "metadata": {},
   "source": [
    "## Подключение библиотек"
   ]
  },
  {
   "cell_type": "code",
   "execution_count": null,
   "id": "3afa0eb4",
   "metadata": {},
   "outputs": [],
   "source": [
    "# подключение библиотеки pandas\n",
    "import pandas as pd\n",
    "import numpy as np\n",
    "# подключение библиотеки matplotlib.pyplot\n",
    "import matplotlib.pyplot as plt\n",
    "# подключение библиотеки seaborn\n",
    "import seaborn as sns\n",
    "# подключение функций из sklearn\n",
    "from sklearn.model_selection import train_test_split\n",
    "from sklearn.metrics import mean_absolute_error, mean_absolute_percentage_error\n",
    "# подключение функции для работы с категориальными признаками\n",
    "from catboost import CatBoostRegressor"
   ]
  },
  {
   "cell_type": "markdown",
   "id": "b1d70b3a",
   "metadata": {},
   "source": [
    "## Загрузка очищенного DataFrame(df)"
   ]
  },
  {
   "cell_type": "code",
   "execution_count": 3,
   "id": "d2d653c0",
   "metadata": {},
   "outputs": [],
   "source": [
    "df = pd.read_csv(\"data/clean_smartwatch_health_data.csv\")"
   ]
  },
  {
   "cell_type": "markdown",
   "id": "0af1f985",
   "metadata": {},
   "source": [
    "## Разделение данных на обучающую и тестовую выборки"
   ]
  },
  {
   "cell_type": "code",
   "execution_count": 4,
   "id": "ddbda4ee",
   "metadata": {},
   "outputs": [],
   "source": [
    "train, test = train_test_split(df,train_size=0.6,random_state=42)"
   ]
  },
  {
   "cell_type": "markdown",
   "id": "e90a0003",
   "metadata": {},
   "source": [
    "## Разделение тестовой выборки на валидационную и тестовую выборки"
   ]
  },
  {
   "cell_type": "code",
   "execution_count": 5,
   "id": "e2ad5892",
   "metadata": {},
   "outputs": [],
   "source": [
    "val, test = train_test_split(test,train_size=0.5,random_state=42)"
   ]
  },
  {
   "cell_type": "markdown",
   "id": "5eb3bffc",
   "metadata": {},
   "source": [
    "## Просмотр списка фичей"
   ]
  },
  {
   "cell_type": "code",
   "execution_count": 6,
   "id": "d97f2ec0",
   "metadata": {},
   "outputs": [
    {
     "data": {
      "text/plain": [
       "Index(['User ID', 'Heart Rate (BPM)', 'Blood Oxygen Level (%)', 'Step Count',\n",
       "       'Sleep Duration (hours)', 'Activity Level', 'Stress Level'],\n",
       "      dtype='object')"
      ]
     },
     "execution_count": 6,
     "metadata": {},
     "output_type": "execute_result"
    }
   ],
   "source": [
    "train.columns"
   ]
  },
  {
   "cell_type": "markdown",
   "id": "d35764f9",
   "metadata": {},
   "source": [
    "## Просмотр типов данных фичей"
   ]
  },
  {
   "cell_type": "code",
   "execution_count": 7,
   "id": "afd7b7f6",
   "metadata": {},
   "outputs": [
    {
     "data": {
      "text/plain": [
       "User ID                   float64\n",
       "Heart Rate (BPM)          float64\n",
       "Blood Oxygen Level (%)    float64\n",
       "Step Count                float64\n",
       "Sleep Duration (hours)    float64\n",
       "Activity Level             object\n",
       "Stress Level               object\n",
       "dtype: object"
      ]
     },
     "execution_count": 7,
     "metadata": {},
     "output_type": "execute_result"
    }
   ],
   "source": [
    "train.dtypes"
   ]
  },
  {
   "cell_type": "markdown",
   "id": "a0f4350f",
   "metadata": {},
   "source": [
    "# Принцип преобразования категориальных фичей"
   ]
  },
  {
   "cell_type": "markdown",
   "id": "f7d5165e",
   "metadata": {},
   "source": [
    "## Устанавливаем список признаков, которые будут использоваться для обучения модели"
   ]
  },
  {
   "cell_type": "code",
   "execution_count": 8,
   "id": "fa1cf3f5",
   "metadata": {},
   "outputs": [],
   "source": [
    "X = ['Blood Oxygen Level (%)', 'Step Count',\n",
    "       'Sleep Duration (hours)', 'Activity Level', 'Stress Level']"
   ]
  },
  {
   "cell_type": "markdown",
   "id": "b6fd3810",
   "metadata": {},
   "source": [
    "## Установка категориальных признаков"
   ]
  },
  {
   "cell_type": "code",
   "execution_count": 9,
   "id": "137e12c8",
   "metadata": {},
   "outputs": [],
   "source": [
    "cat_features = ['Activity Level', 'Stress Level']"
   ]
  },
  {
   "cell_type": "markdown",
   "id": "007ec999",
   "metadata": {},
   "source": [
    "## Установка целевой переменной"
   ]
  },
  {
   "cell_type": "code",
   "execution_count": 10,
   "id": "190194c9",
   "metadata": {},
   "outputs": [],
   "source": [
    "y = ['Heart Rate (BPM)']"
   ]
  },
  {
   "cell_type": "markdown",
   "id": "82408d53",
   "metadata": {},
   "source": [
    "## Настройка параметров модели"
   ]
  },
  {
   "cell_type": "code",
   "execution_count": null,
   "id": "1c6021ca",
   "metadata": {},
   "outputs": [],
   "source": [
    "model = CatBoostRegressor(cat_features=cat_features,  # категориальные признаки\n",
    "                          eval_metric='MAPE',     # метрика качества\n",
    "                          random_seed=42,      # Фиксированное значение для воспроизводимости результатов  \n",
    "                          verbose=100)       # Вывод информации о процессе обучения каждые 100 итераций"
   ]
  },
  {
   "cell_type": "markdown",
   "id": "11958008",
   "metadata": {},
   "source": [
    "## Обучение модели и оценка её качества"
   ]
  },
  {
   "cell_type": "code",
   "execution_count": 24,
   "id": "b3926d49",
   "metadata": {},
   "outputs": [
    {
     "name": "stdout",
     "output_type": "stream",
     "text": [
      "Learning rate set to 0.067034\n",
      "0:\tlearn: 0.1700029\ttest: 0.1698576\tbest: 0.1698576 (0)\ttotal: 16.6ms\tremaining: 16.6s\n",
      "100:\tlearn: 0.1687569\ttest: 0.1704337\tbest: 0.1698231 (4)\ttotal: 1.51s\tremaining: 13.5s\n",
      "200:\tlearn: 0.1668487\ttest: 0.1714300\tbest: 0.1698231 (4)\ttotal: 3.26s\tremaining: 12.9s\n",
      "300:\tlearn: 0.1649174\ttest: 0.1722079\tbest: 0.1698231 (4)\ttotal: 5s\tremaining: 11.6s\n",
      "400:\tlearn: 0.1629328\ttest: 0.1726880\tbest: 0.1698231 (4)\ttotal: 6.72s\tremaining: 10s\n",
      "500:\tlearn: 0.1607649\ttest: 0.1732761\tbest: 0.1698231 (4)\ttotal: 8.48s\tremaining: 8.45s\n",
      "600:\tlearn: 0.1586323\ttest: 0.1739062\tbest: 0.1698231 (4)\ttotal: 10.3s\tremaining: 6.81s\n",
      "700:\tlearn: 0.1566926\ttest: 0.1742439\tbest: 0.1698231 (4)\ttotal: 12s\tremaining: 5.12s\n",
      "800:\tlearn: 0.1545943\ttest: 0.1748188\tbest: 0.1698231 (4)\ttotal: 13.7s\tremaining: 3.41s\n",
      "900:\tlearn: 0.1529294\ttest: 0.1752083\tbest: 0.1698231 (4)\ttotal: 15.5s\tremaining: 1.7s\n",
      "999:\tlearn: 0.1511415\ttest: 0.1755145\tbest: 0.1698231 (4)\ttotal: 17.2s\tremaining: 0us\n",
      "\n",
      "bestTest = 0.1698231344\n",
      "bestIteration = 4\n",
      "\n",
      "Shrink model to first 5 iterations.\n"
     ]
    },
    {
     "data": {
      "text/plain": [
       "<catboost.core.CatBoostRegressor at 0x1a37a030640>"
      ]
     },
     "execution_count": 24,
     "metadata": {},
     "output_type": "execute_result"
    }
   ],
   "source": [
    "model.fit(train[X],train[y],eval_set=(val[X],val[y]))"
   ]
  },
  {
   "cell_type": "markdown",
   "id": "b2e9e3dc",
   "metadata": {},
   "source": [
    "# Уменьшим learning rate"
   ]
  },
  {
   "cell_type": "markdown",
   "id": "4362e234",
   "metadata": {},
   "source": [
    "## Настройка параметров модели"
   ]
  },
  {
   "cell_type": "code",
   "execution_count": 32,
   "id": "8a83d8a3",
   "metadata": {},
   "outputs": [],
   "source": [
    "parameters = {'cat_features': cat_features,      # катeгориальные признаки\n",
    "              'eval_metric': 'MAPE',         # метрика качества\n",
    "              'learning_rate': 0.0001,         # Назначение темпa обучения\n",
    "              'random_seed':42,         # Фиксированное значение для воспроизводимости результатов\n",
    "              'verbose':100}          # Вывод информации о процессе обучения каждые 100 итераций"
   ]
  },
  {
   "cell_type": "markdown",
   "id": "751e10d3",
   "metadata": {},
   "source": [
    "## Создаем экземпляр модели с указанными параметрами"
   ]
  },
  {
   "cell_type": "code",
   "execution_count": 33,
   "id": "c8f98e12",
   "metadata": {},
   "outputs": [],
   "source": [
    "model = CatBoostRegressor(**parameters)"
   ]
  },
  {
   "cell_type": "markdown",
   "id": "8364a324",
   "metadata": {},
   "source": [
    "## Обучение модели и оценка её качества"
   ]
  },
  {
   "cell_type": "code",
   "execution_count": 34,
   "id": "80159f61",
   "metadata": {},
   "outputs": [
    {
     "name": "stdout",
     "output_type": "stream",
     "text": [
      "0:\tlearn: 0.1700422\ttest: 0.1698527\tbest: 0.1698527 (0)\ttotal: 17.1ms\tremaining: 17.1s\n",
      "100:\tlearn: 0.1700391\ttest: 0.1698524\tbest: 0.1698523 (94)\ttotal: 1.57s\tremaining: 14s\n",
      "200:\tlearn: 0.1700357\ttest: 0.1698522\tbest: 0.1698522 (196)\ttotal: 3.17s\tremaining: 12.6s\n",
      "300:\tlearn: 0.1700323\ttest: 0.1698522\tbest: 0.1698521 (230)\ttotal: 4.79s\tremaining: 11.1s\n",
      "400:\tlearn: 0.1700290\ttest: 0.1698519\tbest: 0.1698518 (383)\ttotal: 6.3s\tremaining: 9.41s\n",
      "500:\tlearn: 0.1700257\ttest: 0.1698515\tbest: 0.1698515 (476)\ttotal: 7.85s\tremaining: 7.82s\n",
      "600:\tlearn: 0.1700229\ttest: 0.1698510\tbest: 0.1698510 (589)\ttotal: 9.35s\tremaining: 6.21s\n",
      "700:\tlearn: 0.1700196\ttest: 0.1698509\tbest: 0.1698509 (671)\ttotal: 10.9s\tremaining: 4.64s\n",
      "800:\tlearn: 0.1700164\ttest: 0.1698507\tbest: 0.1698506 (792)\ttotal: 12.4s\tremaining: 3.08s\n",
      "900:\tlearn: 0.1700134\ttest: 0.1698505\tbest: 0.1698505 (862)\ttotal: 13.9s\tremaining: 1.53s\n",
      "999:\tlearn: 0.1700103\ttest: 0.1698505\tbest: 0.1698504 (971)\ttotal: 15.5s\tremaining: 0us\n",
      "\n",
      "bestTest = 0.1698503973\n",
      "bestIteration = 971\n",
      "\n",
      "Shrink model to first 972 iterations.\n"
     ]
    },
    {
     "data": {
      "text/plain": [
       "<catboost.core.CatBoostRegressor at 0x1a3484c0d10>"
      ]
     },
     "execution_count": 34,
     "metadata": {},
     "output_type": "execute_result"
    }
   ],
   "source": [
    "model.fit(train[X],train[y],eval_set=(val[X],val[y]))"
   ]
  },
  {
   "cell_type": "markdown",
   "id": "da8ee294",
   "metadata": {},
   "source": [
    "## Задание новых параметров для модели"
   ]
  },
  {
   "cell_type": "code",
   "execution_count": 35,
   "id": "2b2a0c7e",
   "metadata": {},
   "outputs": [],
   "source": [
    "parameters = {'iterations': model.best_iteration_ + 1,  # количество итераций\n",
    "              'cat_features': cat_features,          # катeгориальные признаки\n",
    "              'eval_metric': 'MAPE',         # метрика качества\n",
    "              'learning_rate': 0.08,    # Назначение темпa обучения\n",
    "              'random_seed':42,       # Фиксированное значение для воспроизводимости результатов\n",
    "              'verbose':100}      # Вывод информации о процессе обучения каждые 100 итераций"
   ]
  },
  {
   "cell_type": "markdown",
   "id": "2e9bcdf0",
   "metadata": {},
   "source": [
    "## Создаем экземпляр модели с указанными параметрами"
   ]
  },
  {
   "cell_type": "code",
   "execution_count": 27,
   "id": "5cc6a0ad",
   "metadata": {},
   "outputs": [],
   "source": [
    "model = CatBoostRegressor(**parameters)"
   ]
  },
  {
   "cell_type": "markdown",
   "id": "8e81c9fb",
   "metadata": {},
   "source": [
    "## Объединение train и val"
   ]
  },
  {
   "cell_type": "code",
   "execution_count": 36,
   "id": "6b5de64f",
   "metadata": {},
   "outputs": [],
   "source": [
    "train_full = pd.concat([train,val])"
   ]
  },
  {
   "cell_type": "markdown",
   "id": "73a870c1",
   "metadata": {},
   "source": [
    "## Обучение модели на данных из train_full"
   ]
  },
  {
   "cell_type": "code",
   "execution_count": 37,
   "id": "edf013e9",
   "metadata": {},
   "outputs": [
    {
     "name": "stdout",
     "output_type": "stream",
     "text": [
      "0:\tlearn: 0.1703413\ttotal: 8.86ms\tremaining: 8.85s\n",
      "100:\tlearn: 0.1703384\ttotal: 1.42s\tremaining: 12.6s\n",
      "200:\tlearn: 0.1703350\ttotal: 2.93s\tremaining: 11.6s\n",
      "300:\tlearn: 0.1703321\ttotal: 4.36s\tremaining: 10.1s\n",
      "400:\tlearn: 0.1703291\ttotal: 5.83s\tremaining: 8.7s\n",
      "500:\tlearn: 0.1703261\ttotal: 7.32s\tremaining: 7.29s\n",
      "600:\tlearn: 0.1703227\ttotal: 8.79s\tremaining: 5.83s\n",
      "700:\tlearn: 0.1703197\ttotal: 10.2s\tremaining: 4.37s\n",
      "800:\tlearn: 0.1703164\ttotal: 11.7s\tremaining: 2.91s\n",
      "900:\tlearn: 0.1703132\ttotal: 13.2s\tremaining: 1.45s\n",
      "999:\tlearn: 0.1703106\ttotal: 14.6s\tremaining: 0us\n"
     ]
    },
    {
     "data": {
      "text/plain": [
       "<catboost.core.CatBoostRegressor at 0x1a3484c0d10>"
      ]
     },
     "execution_count": 37,
     "metadata": {},
     "output_type": "execute_result"
    }
   ],
   "source": [
    "model.fit(train_full[X],train_full[y])"
   ]
  },
  {
   "cell_type": "markdown",
   "id": "2eadb965",
   "metadata": {},
   "source": [
    "# Оценка качества прогноза"
   ]
  },
  {
   "cell_type": "markdown",
   "id": "7a622a49",
   "metadata": {},
   "source": [
    "## Создание функция для оценки качества прогноза"
   ]
  },
  {
   "cell_type": "code",
   "execution_count": 43,
   "id": "70d01e4c",
   "metadata": {},
   "outputs": [],
   "source": [
    "def error(y_true,y_pred):\n",
    "    # вычисление средней абсолютной ошибки\n",
    "    print(\"mean absolute error = \" + str(mean_absolute_error(y_true,y_pred)))\n",
    "    # вычисление средней абсолютной процентной ошибки \n",
    "    print(\"mean absolute percentage error = \" + str(mean_absolute_percentage_error(y_true,y_pred)))"
   ]
  },
  {
   "cell_type": "markdown",
   "id": "5f733b16",
   "metadata": {},
   "source": [
    "## создания прогнозов модели на тестовых данных и сохранения их в новом столбце"
   ]
  },
  {
   "cell_type": "code",
   "execution_count": 40,
   "id": "c9b2a948",
   "metadata": {},
   "outputs": [],
   "source": [
    "test['Heart Rate (BPM)_pred'] = model.predict(test[X])"
   ]
  },
  {
   "cell_type": "markdown",
   "id": "8afb9e9b",
   "metadata": {},
   "source": [
    "## Вызов функции для оценки качества прогноза"
   ]
  },
  {
   "cell_type": "code",
   "execution_count": 44,
   "id": "bb2e53ad",
   "metadata": {},
   "outputs": [
    {
     "name": "stdout",
     "output_type": "stream",
     "text": [
      "mean absolute error = 11.793662833962092\n",
      "mean absolute percentage error = 0.16684227913701388\n"
     ]
    }
   ],
   "source": [
    "error(test['Heart Rate (BPM)'],test['Heart Rate (BPM)_pred'])"
   ]
  },
  {
   "cell_type": "markdown",
   "id": "21bf64a1",
   "metadata": {},
   "source": [
    "# Сохранение модели целиком в файл"
   ]
  },
  {
   "cell_type": "code",
   "execution_count": 45,
   "id": "9005338e",
   "metadata": {},
   "outputs": [],
   "source": [
    "model.save_model('data/my_model.h5')"
   ]
  },
  {
   "cell_type": "markdown",
   "id": "b961b03a",
   "metadata": {},
   "source": [
    "# Проверка работы модели"
   ]
  },
  {
   "cell_type": "markdown",
   "id": "2e1415c4",
   "metadata": {},
   "source": [
    "## Определение признаков"
   ]
  },
  {
   "cell_type": "code",
   "execution_count": 46,
   "id": "e0263257",
   "metadata": {},
   "outputs": [],
   "source": [
    "X = ['Heart Rate (BPM)', 'Blood Oxygen Level (%)', 'Step Count',\n",
    "       'Sleep Duration (hours)', 'Activity Level', 'Stress Level']"
   ]
  },
  {
   "cell_type": "markdown",
   "id": "775c19cb",
   "metadata": {},
   "source": [
    "## Вывод DataFrame(df)"
   ]
  },
  {
   "cell_type": "code",
   "execution_count": 47,
   "id": "8a7316bd",
   "metadata": {},
   "outputs": [
    {
     "data": {
      "text/html": [
       "<div>\n",
       "<style scoped>\n",
       "    .dataframe tbody tr th:only-of-type {\n",
       "        vertical-align: middle;\n",
       "    }\n",
       "\n",
       "    .dataframe tbody tr th {\n",
       "        vertical-align: top;\n",
       "    }\n",
       "\n",
       "    .dataframe thead th {\n",
       "        text-align: right;\n",
       "    }\n",
       "</style>\n",
       "<table border=\"1\" class=\"dataframe\">\n",
       "  <thead>\n",
       "    <tr style=\"text-align: right;\">\n",
       "      <th></th>\n",
       "      <th>User ID</th>\n",
       "      <th>Heart Rate (BPM)</th>\n",
       "      <th>Blood Oxygen Level (%)</th>\n",
       "      <th>Step Count</th>\n",
       "      <th>Sleep Duration (hours)</th>\n",
       "      <th>Activity Level</th>\n",
       "      <th>Stress Level</th>\n",
       "    </tr>\n",
       "  </thead>\n",
       "  <tbody>\n",
       "    <tr>\n",
       "      <th>0</th>\n",
       "      <td>0.885813</td>\n",
       "      <td>58.939776</td>\n",
       "      <td>98.809650</td>\n",
       "      <td>5450.390578</td>\n",
       "      <td>7.167236</td>\n",
       "      <td>Highly Active</td>\n",
       "      <td>1</td>\n",
       "    </tr>\n",
       "    <tr>\n",
       "      <th>1</th>\n",
       "      <td>0.682931</td>\n",
       "      <td>76.056436</td>\n",
       "      <td>98.532195</td>\n",
       "      <td>727.601610</td>\n",
       "      <td>6.538240</td>\n",
       "      <td>Highly Active</td>\n",
       "      <td>5</td>\n",
       "    </tr>\n",
       "    <tr>\n",
       "      <th>2</th>\n",
       "      <td>0.041120</td>\n",
       "      <td>247.803052</td>\n",
       "      <td>97.052954</td>\n",
       "      <td>2826.521994</td>\n",
       "      <td>6.487031</td>\n",
       "      <td>Highly Active</td>\n",
       "      <td>5</td>\n",
       "    </tr>\n",
       "    <tr>\n",
       "      <th>3</th>\n",
       "      <td>0.574419</td>\n",
       "      <td>40.000000</td>\n",
       "      <td>96.894213</td>\n",
       "      <td>13797.338044</td>\n",
       "      <td>7.367790</td>\n",
       "      <td>Active</td>\n",
       "      <td>3</td>\n",
       "    </tr>\n",
       "    <tr>\n",
       "      <th>4</th>\n",
       "      <td>0.503771</td>\n",
       "      <td>61.950165</td>\n",
       "      <td>98.583797</td>\n",
       "      <td>15679.067648</td>\n",
       "      <td>6.497941</td>\n",
       "      <td>Highly Active</td>\n",
       "      <td>6</td>\n",
       "    </tr>\n",
       "    <tr>\n",
       "      <th>...</th>\n",
       "      <td>...</td>\n",
       "      <td>...</td>\n",
       "      <td>...</td>\n",
       "      <td>...</td>\n",
       "      <td>...</td>\n",
       "      <td>...</td>\n",
       "      <td>...</td>\n",
       "    </tr>\n",
       "    <tr>\n",
       "      <th>9598</th>\n",
       "      <td>0.624543</td>\n",
       "      <td>78.819386</td>\n",
       "      <td>98.931927</td>\n",
       "      <td>2948.491953</td>\n",
       "      <td>7.402749</td>\n",
       "      <td>Active</td>\n",
       "      <td>7</td>\n",
       "    </tr>\n",
       "    <tr>\n",
       "      <th>9599</th>\n",
       "      <td>0.511868</td>\n",
       "      <td>48.632659</td>\n",
       "      <td>95.773035</td>\n",
       "      <td>4725.623070</td>\n",
       "      <td>6.382166</td>\n",
       "      <td>Sedentary</td>\n",
       "      <td>2</td>\n",
       "    </tr>\n",
       "    <tr>\n",
       "      <th>9600</th>\n",
       "      <td>0.813723</td>\n",
       "      <td>73.834442</td>\n",
       "      <td>97.945874</td>\n",
       "      <td>2571.492060</td>\n",
       "      <td>6.916549</td>\n",
       "      <td>Sedentary</td>\n",
       "      <td>4</td>\n",
       "    </tr>\n",
       "    <tr>\n",
       "      <th>9601</th>\n",
       "      <td>0.490293</td>\n",
       "      <td>76.373803</td>\n",
       "      <td>98.401058</td>\n",
       "      <td>3364.788855</td>\n",
       "      <td>5.691234</td>\n",
       "      <td>Active</td>\n",
       "      <td>8</td>\n",
       "    </tr>\n",
       "    <tr>\n",
       "      <th>9602</th>\n",
       "      <td>0.165933</td>\n",
       "      <td>70.063864</td>\n",
       "      <td>98.475606</td>\n",
       "      <td>544.696104</td>\n",
       "      <td>5.691001</td>\n",
       "      <td>Active</td>\n",
       "      <td>5</td>\n",
       "    </tr>\n",
       "  </tbody>\n",
       "</table>\n",
       "<p>9603 rows × 7 columns</p>\n",
       "</div>"
      ],
      "text/plain": [
       "       User ID  Heart Rate (BPM)  Blood Oxygen Level (%)    Step Count  \\\n",
       "0     0.885813         58.939776               98.809650   5450.390578   \n",
       "1     0.682931         76.056436               98.532195    727.601610   \n",
       "2     0.041120        247.803052               97.052954   2826.521994   \n",
       "3     0.574419         40.000000               96.894213  13797.338044   \n",
       "4     0.503771         61.950165               98.583797  15679.067648   \n",
       "...        ...               ...                     ...           ...   \n",
       "9598  0.624543         78.819386               98.931927   2948.491953   \n",
       "9599  0.511868         48.632659               95.773035   4725.623070   \n",
       "9600  0.813723         73.834442               97.945874   2571.492060   \n",
       "9601  0.490293         76.373803               98.401058   3364.788855   \n",
       "9602  0.165933         70.063864               98.475606    544.696104   \n",
       "\n",
       "      Sleep Duration (hours) Activity Level Stress Level  \n",
       "0                   7.167236  Highly Active            1  \n",
       "1                   6.538240  Highly Active            5  \n",
       "2                   6.487031  Highly Active            5  \n",
       "3                   7.367790         Active            3  \n",
       "4                   6.497941  Highly Active            6  \n",
       "...                      ...            ...          ...  \n",
       "9598                7.402749         Active            7  \n",
       "9599                6.382166      Sedentary            2  \n",
       "9600                6.916549      Sedentary            4  \n",
       "9601                5.691234         Active            8  \n",
       "9602                5.691001         Active            5  \n",
       "\n",
       "[9603 rows x 7 columns]"
      ]
     },
     "execution_count": 47,
     "metadata": {},
     "output_type": "execute_result"
    }
   ],
   "source": [
    "df"
   ]
  },
  {
   "cell_type": "markdown",
   "id": "c352f480",
   "metadata": {},
   "source": [
    "## Определение данных для предсказания"
   ]
  },
  {
   "cell_type": "code",
   "execution_count": 48,
   "id": "166a7024",
   "metadata": {},
   "outputs": [],
   "source": [
    "activity_level = \"Active\"\n",
    "stress_level = \"4\"\n",
    "blood_oxygen_level = 97.55\n",
    "step_count = 13000\n",
    "sleep_duration_hours = 6.8"
   ]
  },
  {
   "cell_type": "markdown",
   "id": "8755a9b5",
   "metadata": {},
   "source": [
    "## Создаем словарь с данными"
   ]
  },
  {
   "cell_type": "code",
   "execution_count": 49,
   "id": "460cd8ee",
   "metadata": {},
   "outputs": [],
   "source": [
    "dict_data = {\n",
    "    \"Blood Oxygen Level (%)\": blood_oxygen_level,\n",
    "    \"Step Count\": step_count,\n",
    "    \"Sleep Duration (hours)\": sleep_duration_hours,\n",
    "    \"Activity Level\": activity_level,\n",
    "    \"Stress Level\": stress_level\n",
    "}"
   ]
  },
  {
   "cell_type": "markdown",
   "id": "3f2ab896",
   "metadata": {},
   "source": [
    "## Создаем DataFrame(data_predict)"
   ]
  },
  {
   "cell_type": "code",
   "execution_count": 50,
   "id": "5c5f8b31",
   "metadata": {},
   "outputs": [],
   "source": [
    "data_predict = pd.DataFrame([dict_data])"
   ]
  },
  {
   "cell_type": "markdown",
   "id": "eca1a7e1",
   "metadata": {},
   "source": [
    "## Вывод data_predict"
   ]
  },
  {
   "cell_type": "code",
   "execution_count": 51,
   "id": "c2f0ac1d",
   "metadata": {},
   "outputs": [
    {
     "data": {
      "text/html": [
       "<div>\n",
       "<style scoped>\n",
       "    .dataframe tbody tr th:only-of-type {\n",
       "        vertical-align: middle;\n",
       "    }\n",
       "\n",
       "    .dataframe tbody tr th {\n",
       "        vertical-align: top;\n",
       "    }\n",
       "\n",
       "    .dataframe thead th {\n",
       "        text-align: right;\n",
       "    }\n",
       "</style>\n",
       "<table border=\"1\" class=\"dataframe\">\n",
       "  <thead>\n",
       "    <tr style=\"text-align: right;\">\n",
       "      <th></th>\n",
       "      <th>Blood Oxygen Level (%)</th>\n",
       "      <th>Step Count</th>\n",
       "      <th>Sleep Duration (hours)</th>\n",
       "      <th>Activity Level</th>\n",
       "      <th>Stress Level</th>\n",
       "    </tr>\n",
       "  </thead>\n",
       "  <tbody>\n",
       "    <tr>\n",
       "      <th>0</th>\n",
       "      <td>97.55</td>\n",
       "      <td>13000</td>\n",
       "      <td>6.8</td>\n",
       "      <td>Active</td>\n",
       "      <td>4</td>\n",
       "    </tr>\n",
       "  </tbody>\n",
       "</table>\n",
       "</div>"
      ],
      "text/plain": [
       "   Blood Oxygen Level (%)  Step Count  Sleep Duration (hours) Activity Level  \\\n",
       "0                   97.55       13000                     6.8         Active   \n",
       "\n",
       "  Stress Level  \n",
       "0            4  "
      ]
     },
     "execution_count": 51,
     "metadata": {},
     "output_type": "execute_result"
    }
   ],
   "source": [
    "data_predict"
   ]
  },
  {
   "cell_type": "markdown",
   "id": "a8516636",
   "metadata": {},
   "source": [
    "## Выполняем предсказание"
   ]
  },
  {
   "cell_type": "code",
   "execution_count": 52,
   "id": "194cd61a",
   "metadata": {},
   "outputs": [
    {
     "data": {
      "text/plain": [
       "array([76.19365179])"
      ]
     },
     "execution_count": 52,
     "metadata": {},
     "output_type": "execute_result"
    }
   ],
   "source": [
    "predict = model.predict(data_predict)\n",
    "predict"
   ]
  }
 ],
 "metadata": {
  "kernelspec": {
   "display_name": ".venv",
   "language": "python",
   "name": "python3"
  },
  "language_info": {
   "codemirror_mode": {
    "name": "ipython",
    "version": 3
   },
   "file_extension": ".py",
   "mimetype": "text/x-python",
   "name": "python",
   "nbconvert_exporter": "python",
   "pygments_lexer": "ipython3",
   "version": "3.13.3"
  }
 },
 "nbformat": 4,
 "nbformat_minor": 5
}
