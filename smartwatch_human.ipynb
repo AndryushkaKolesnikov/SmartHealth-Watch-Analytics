{
 "cells": [
  {
   "cell_type": "markdown",
   "id": "348e386b",
   "metadata": {},
   "source": [
    "# Подключение библиотек"
   ]
  },
  {
   "cell_type": "code",
   "execution_count": null,
   "id": "485d6a68",
   "metadata": {},
   "outputs": [],
   "source": [
    "# подключение библиотеки pandas\n",
    "import pandas as pd\n",
    "import numpy as np\n",
    "# подключение библиотеки matplotlib.pyplot\n",
    "import matplotlib.pyplot as plt\n",
    "# подключение библиотеки seaborn\n",
    "import seaborn as sns\n",
    "# подключение модулей из библиотеки sklearn\n",
    "from sklearn.model_selection import train_test_split\n",
    "from sklearn.metrics import mean_absolute_error, mean_absolute_percentage_error"
   ]
  }
 ],
 "metadata": {
  "kernelspec": {
   "display_name": ".venv",
   "language": "python",
   "name": "python3"
  },
  "language_info": {
   "name": "python",
   "version": "3.13.2"
  }
 },
 "nbformat": 4,
 "nbformat_minor": 5
}
