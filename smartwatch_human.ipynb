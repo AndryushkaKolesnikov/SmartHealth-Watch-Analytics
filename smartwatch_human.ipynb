{
 "cells": [
  {
   "cell_type": "markdown",
   "id": "348e386b",
   "metadata": {},
   "source": [
    "# Подключение библиотек"
   ]
  },
  {
   "cell_type": "code",
   "execution_count": 1,
   "id": "485d6a68",
   "metadata": {},
   "outputs": [],
   "source": [
    "# подключение библиотеки pandas\n",
    "import pandas as pd\n",
    "import numpy as np\n",
    "# подключение библиотеки matplotlib.pyplot\n",
    "import matplotlib.pyplot as plt\n",
    "# подключение библиотеки seaborn\n",
    "import seaborn as sns\n",
    "# подключение модулей из библиотеки sklearn\n",
    "from sklearn.model_selection import train_test_split\n",
    "from sklearn.metrics import mean_absolute_error, mean_absolute_percentage_error"
   ]
  },
  {
   "cell_type": "markdown",
   "id": "665d0c35",
   "metadata": {},
   "source": [
    "# Читанием исходный DataFrame (df) из файла"
   ]
  },
  {
   "cell_type": "code",
   "execution_count": 2,
   "id": "61ac00e3",
   "metadata": {},
   "outputs": [],
   "source": [
    "df = pd.read_csv(\"data/unclean_smartwatch_health_data.csv\")"
   ]
  },
  {
   "cell_type": "markdown",
   "id": "0a90c421",
   "metadata": {},
   "source": [
    "# Подготовка данных, группировка и избавление от пропусков"
   ]
  },
  {
   "cell_type": "markdown",
   "id": "3bd1d9a4",
   "metadata": {},
   "source": [
    "## Проводим группировку в столбце Activity Level"
   ]
  },
  {
   "cell_type": "markdown",
   "id": "6c62031c",
   "metadata": {},
   "source": [
    "### Функция для нормализации значений в столбце Activity Level"
   ]
  },
  {
   "cell_type": "code",
   "execution_count": 3,
   "id": "52bd1d4c",
   "metadata": {},
   "outputs": [],
   "source": [
    "def activity_level_group(x):\n",
    "  if x in ['Highly_Active', 'Highly Active']:    # исправляем опечатки\n",
    "    return 'Highly Active'                       # и\n",
    "  if x in ['Seddentary', 'Sedentary']:           # приводим  к общему \n",
    "    return 'Sedentary'                           # виду значения в столбце\n",
    "  if x in ['Actve', 'Active']:\n",
    "    return 'Active'\n",
    "  return x"
   ]
  },
  {
   "cell_type": "markdown",
   "id": "df454666",
   "metadata": {},
   "source": [
    "### Вызываем функцию для нормализации значений и выводим новые уникальные значения"
   ]
  },
  {
   "cell_type": "code",
   "execution_count": 4,
   "id": "8df7461b",
   "metadata": {},
   "outputs": [
    {
     "data": {
      "text/plain": [
       "Activity Level\n",
       "Sedentary        3333\n",
       "Active           3265\n",
       "Highly Active    3202\n",
       "NaN               200\n",
       "Name: count, dtype: int64"
      ]
     },
     "execution_count": 4,
     "metadata": {},
     "output_type": "execute_result"
    }
   ],
   "source": [
    "df['Activity Level'] = df['Activity Level'].apply(activity_level_group)  # вызов функции\n",
    "df['Activity Level'].value_counts(dropna=False)"
   ]
  },
  {
   "cell_type": "markdown",
   "id": "ae2ba6d3",
   "metadata": {},
   "source": [
    "## Просмотр типов данных по каждому столбцу"
   ]
  },
  {
   "cell_type": "code",
   "execution_count": 5,
   "id": "43e83909",
   "metadata": {},
   "outputs": [
    {
     "data": {
      "text/plain": [
       "User ID                   float64\n",
       "Heart Rate (BPM)          float64\n",
       "Blood Oxygen Level (%)    float64\n",
       "Step Count                float64\n",
       "Sleep Duration (hours)     object\n",
       "Activity Level             object\n",
       "Stress Level               object\n",
       "dtype: object"
      ]
     },
     "execution_count": 5,
     "metadata": {},
     "output_type": "execute_result"
    }
   ],
   "source": [
    "df.dtypes"
   ]
  },
  {
   "cell_type": "markdown",
   "id": "5a5aa97d",
   "metadata": {},
   "source": [
    "## Просмотр сводной статистики всех числовых столбцов"
   ]
  },
  {
   "cell_type": "code",
   "execution_count": 6,
   "id": "f4cf5a95",
   "metadata": {},
   "outputs": [
    {
     "data": {
      "text/html": [
       "<div>\n",
       "<style scoped>\n",
       "    .dataframe tbody tr th:only-of-type {\n",
       "        vertical-align: middle;\n",
       "    }\n",
       "\n",
       "    .dataframe tbody tr th {\n",
       "        vertical-align: top;\n",
       "    }\n",
       "\n",
       "    .dataframe thead th {\n",
       "        text-align: right;\n",
       "    }\n",
       "</style>\n",
       "<table border=\"1\" class=\"dataframe\">\n",
       "  <thead>\n",
       "    <tr style=\"text-align: right;\">\n",
       "      <th></th>\n",
       "      <th>User ID</th>\n",
       "      <th>Heart Rate (BPM)</th>\n",
       "      <th>Blood Oxygen Level (%)</th>\n",
       "      <th>Step Count</th>\n",
       "    </tr>\n",
       "  </thead>\n",
       "  <tbody>\n",
       "    <tr>\n",
       "      <th>count</th>\n",
       "      <td>9799.000000</td>\n",
       "      <td>9600.000000</td>\n",
       "      <td>9700.000000</td>\n",
       "      <td>9900.000000</td>\n",
       "    </tr>\n",
       "    <tr>\n",
       "      <th>mean</th>\n",
       "      <td>3007.480253</td>\n",
       "      <td>76.035462</td>\n",
       "      <td>97.841581</td>\n",
       "      <td>6985.685885</td>\n",
       "    </tr>\n",
       "    <tr>\n",
       "      <th>std</th>\n",
       "      <td>1150.581542</td>\n",
       "      <td>19.412483</td>\n",
       "      <td>1.732863</td>\n",
       "      <td>6885.809680</td>\n",
       "    </tr>\n",
       "    <tr>\n",
       "      <th>min</th>\n",
       "      <td>1001.000000</td>\n",
       "      <td>40.000000</td>\n",
       "      <td>90.791208</td>\n",
       "      <td>0.910138</td>\n",
       "    </tr>\n",
       "    <tr>\n",
       "      <th>25%</th>\n",
       "      <td>1997.500000</td>\n",
       "      <td>64.890152</td>\n",
       "      <td>96.662683</td>\n",
       "      <td>2021.039657</td>\n",
       "    </tr>\n",
       "    <tr>\n",
       "      <th>50%</th>\n",
       "      <td>2998.000000</td>\n",
       "      <td>75.220601</td>\n",
       "      <td>98.010642</td>\n",
       "      <td>4962.534599</td>\n",
       "    </tr>\n",
       "    <tr>\n",
       "      <th>75%</th>\n",
       "      <td>4004.000000</td>\n",
       "      <td>85.198249</td>\n",
       "      <td>99.376179</td>\n",
       "      <td>9724.902880</td>\n",
       "    </tr>\n",
       "    <tr>\n",
       "      <th>max</th>\n",
       "      <td>4999.000000</td>\n",
       "      <td>296.593970</td>\n",
       "      <td>100.000000</td>\n",
       "      <td>62486.690753</td>\n",
       "    </tr>\n",
       "  </tbody>\n",
       "</table>\n",
       "</div>"
      ],
      "text/plain": [
       "           User ID  Heart Rate (BPM)  Blood Oxygen Level (%)    Step Count\n",
       "count  9799.000000       9600.000000             9700.000000   9900.000000\n",
       "mean   3007.480253         76.035462               97.841581   6985.685885\n",
       "std    1150.581542         19.412483                1.732863   6885.809680\n",
       "min    1001.000000         40.000000               90.791208      0.910138\n",
       "25%    1997.500000         64.890152               96.662683   2021.039657\n",
       "50%    2998.000000         75.220601               98.010642   4962.534599\n",
       "75%    4004.000000         85.198249               99.376179   9724.902880\n",
       "max    4999.000000        296.593970              100.000000  62486.690753"
      ]
     },
     "execution_count": 6,
     "metadata": {},
     "output_type": "execute_result"
    }
   ],
   "source": [
    "df.describe()"
   ]
  },
  {
   "cell_type": "markdown",
   "id": "0257a093",
   "metadata": {},
   "source": [
    "## Убираем отсутствующих значения"
   ]
  },
  {
   "cell_type": "markdown",
   "id": "3154f518",
   "metadata": {},
   "source": [
    "### Просмотр количества отсутсвующих значений по всем столбцам"
   ]
  },
  {
   "cell_type": "code",
   "execution_count": 7,
   "id": "8c30bf72",
   "metadata": {},
   "outputs": [
    {
     "data": {
      "text/plain": [
       "User ID                   201\n",
       "Heart Rate (BPM)          400\n",
       "Blood Oxygen Level (%)    300\n",
       "Step Count                100\n",
       "Sleep Duration (hours)    150\n",
       "Activity Level            200\n",
       "Stress Level              200\n",
       "dtype: int64"
      ]
     },
     "execution_count": 7,
     "metadata": {},
     "output_type": "execute_result"
    }
   ],
   "source": [
    "df.isnull().sum()"
   ]
  },
  {
   "cell_type": "markdown",
   "id": "4b4d3f67",
   "metadata": {},
   "source": [
    "### Заменяем все пропуски в столбце User ID случайными числами"
   ]
  },
  {
   "cell_type": "code",
   "execution_count": 8,
   "id": "5ab4a398",
   "metadata": {},
   "outputs": [
    {
     "data": {
      "text/plain": [
       "User ID                     0\n",
       "Heart Rate (BPM)          400\n",
       "Blood Oxygen Level (%)    300\n",
       "Step Count                100\n",
       "Sleep Duration (hours)    150\n",
       "Activity Level            200\n",
       "Stress Level              200\n",
       "dtype: int64"
      ]
     },
     "execution_count": 8,
     "metadata": {},
     "output_type": "execute_result"
    }
   ],
   "source": [
    "df[\"User ID\"] = df['User ID'].transform(lambda x: np.random.rand())\n",
    "df.isnull().sum() # просмотр количества отсутствующих значений по столбцам"
   ]
  },
  {
   "cell_type": "markdown",
   "id": "35c8b0a4",
   "metadata": {},
   "source": [
    "### Заменяем пропущенные значения в остальных столбцах средними значениями, рассчитанными для соответствующих групп"
   ]
  },
  {
   "cell_type": "markdown",
   "id": "863792a2",
   "metadata": {},
   "source": [
    "#### Столбец Heart Rate (BPM)"
   ]
  },
  {
   "cell_type": "code",
   "execution_count": 9,
   "id": "78787f4a",
   "metadata": {},
   "outputs": [
    {
     "data": {
      "text/plain": [
       "User ID                     0\n",
       "Heart Rate (BPM)            0\n",
       "Blood Oxygen Level (%)    300\n",
       "Step Count                100\n",
       "Sleep Duration (hours)    150\n",
       "Activity Level            200\n",
       "Stress Level              200\n",
       "dtype: int64"
      ]
     },
     "execution_count": 9,
     "metadata": {},
     "output_type": "execute_result"
    }
   ],
   "source": [
    "# разделяем DataFrame на группы на основе значений в столбцах 'Activity Level', 'Stress Level'\n",
    "# и 'Sleep Duration (hours)'\n",
    "df['Heart Rate (BPM)'] = df.groupby(['Activity Level','Stress Level'],\n",
    "                                     # заменяем пропуски средним значением для каждой группы\n",
    "                                          dropna=False)['Heart Rate (BPM)'].transform(lambda x: x.fillna(x.mean()))\n",
    "df.isnull().sum()  # просмотр количества отсуктствующих значений по столбцам"
   ]
  },
  {
   "cell_type": "markdown",
   "id": "fbd51d64",
   "metadata": {},
   "source": [
    "#### Столбец Blood Oxygen Level (%)"
   ]
  },
  {
   "cell_type": "code",
   "execution_count": 10,
   "id": "fe46c891",
   "metadata": {},
   "outputs": [
    {
     "data": {
      "text/plain": [
       "User ID                     0\n",
       "Heart Rate (BPM)            0\n",
       "Blood Oxygen Level (%)      0\n",
       "Step Count                100\n",
       "Sleep Duration (hours)    150\n",
       "Activity Level            200\n",
       "Stress Level              200\n",
       "dtype: int64"
      ]
     },
     "execution_count": 10,
     "metadata": {},
     "output_type": "execute_result"
    }
   ],
   "source": [
    "# разделяем DataFrame на группы на основе значений в столбце 'Activity Level'\n",
    "df['Blood Oxygen Level (%)'] = df.groupby(['Activity Level'],\n",
    "                                     # заменяем пропуски средним значением для каждой группы\n",
    "                                          dropna=False)['Blood Oxygen Level (%)'].transform(lambda x: x.fillna(x.mean()))\n",
    "df.isnull().sum()  # просмотр количества отсуктствующих значений по столбцам"
   ]
  },
  {
   "cell_type": "markdown",
   "id": "1b06b557",
   "metadata": {},
   "source": [
    "#### Столбец Step Count"
   ]
  },
  {
   "cell_type": "code",
   "execution_count": 11,
   "id": "6f4aa776",
   "metadata": {},
   "outputs": [
    {
     "data": {
      "text/plain": [
       "User ID                     0\n",
       "Heart Rate (BPM)            0\n",
       "Blood Oxygen Level (%)      0\n",
       "Step Count                  0\n",
       "Sleep Duration (hours)    150\n",
       "Activity Level            200\n",
       "Stress Level              200\n",
       "dtype: int64"
      ]
     },
     "execution_count": 11,
     "metadata": {},
     "output_type": "execute_result"
    }
   ],
   "source": [
    "# разделяем DataFrame на группы на основе значений в столбце 'Activity Level'\n",
    "df['Step Count'] = df.groupby(['Activity Level'],\n",
    "                                     # заменяем пропуски средним значением для каждой группы\n",
    "                                          dropna=False)['Step Count'].transform(lambda x: x.fillna(x.mean()))\n",
    "df.isnull().sum()  # просмотр количества отсуктствующих значений по столбцам"
   ]
  },
  {
   "cell_type": "markdown",
   "id": "f4955b04",
   "metadata": {},
   "source": [
    "#### Просмотр доли пропусков по каждому столбцу"
   ]
  },
  {
   "cell_type": "code",
   "execution_count": 12,
   "id": "a2338f4d",
   "metadata": {},
   "outputs": [
    {
     "data": {
      "text/plain": [
       "Stress Level              0.020\n",
       "Activity Level            0.020\n",
       "Sleep Duration (hours)    0.015\n",
       "Blood Oxygen Level (%)    0.000\n",
       "Heart Rate (BPM)          0.000\n",
       "User ID                   0.000\n",
       "Step Count                0.000\n",
       "dtype: float64"
      ]
     },
     "execution_count": 12,
     "metadata": {},
     "output_type": "execute_result"
    }
   ],
   "source": [
    "df.isna().mean().sort_values(ascending=False)"
   ]
  },
  {
   "cell_type": "markdown",
   "id": "35abc286",
   "metadata": {},
   "source": [
    "#### Столбец Sleep Duration (hours)"
   ]
  },
  {
   "cell_type": "markdown",
   "id": "800ea4b3",
   "metadata": {},
   "source": [
    "##### Просмотр типа данных в столбце"
   ]
  },
  {
   "cell_type": "code",
   "execution_count": 13,
   "id": "abfb2780",
   "metadata": {},
   "outputs": [
    {
     "data": {
      "text/plain": [
       "dtype('O')"
      ]
     },
     "execution_count": 13,
     "metadata": {},
     "output_type": "execute_result"
    }
   ],
   "source": [
    "df['Sleep Duration (hours)'].dtypes"
   ]
  },
  {
   "cell_type": "markdown",
   "id": "d767eea3",
   "metadata": {},
   "source": [
    "##### Просмотр уникальных значений в столбце"
   ]
  },
  {
   "cell_type": "code",
   "execution_count": 14,
   "id": "0f478e8a",
   "metadata": {},
   "outputs": [
    {
     "data": {
      "text/plain": [
       "Sleep Duration (hours)\n",
       "ERROR                 247\n",
       "NaN                   150\n",
       "8.021722201567524       1\n",
       "5.814348465914493       1\n",
       "5.691001039740254       1\n",
       "                     ... \n",
       "7.144240087818028       1\n",
       "7.462106906129147       1\n",
       "4.546930592918312       1\n",
       "3.9578798403336597      1\n",
       "8.531278990913485       1\n",
       "Name: count, Length: 9605, dtype: int64"
      ]
     },
     "execution_count": 14,
     "metadata": {},
     "output_type": "execute_result"
    }
   ],
   "source": [
    "df['Sleep Duration (hours)'].value_counts(dropna=False)"
   ]
  },
  {
   "cell_type": "markdown",
   "id": "5a9e127b",
   "metadata": {},
   "source": [
    "##### Преобразование столбца в числовой формат"
   ]
  },
  {
   "cell_type": "code",
   "execution_count": 15,
   "id": "bbc9e94c",
   "metadata": {},
   "outputs": [],
   "source": [
    "df['Sleep Duration (hours)'] = pd.to_numeric(df['Sleep Duration (hours)'], downcast=\"float\", errors='coerce') "
   ]
  },
  {
   "cell_type": "markdown",
   "id": "614d3ea2",
   "metadata": {},
   "source": [
    "##### Просмотр типов данных по столбцам"
   ]
  },
  {
   "cell_type": "code",
   "execution_count": 16,
   "id": "810fb521",
   "metadata": {},
   "outputs": [
    {
     "data": {
      "text/plain": [
       "User ID                   float64\n",
       "Heart Rate (BPM)          float64\n",
       "Blood Oxygen Level (%)    float64\n",
       "Step Count                float64\n",
       "Sleep Duration (hours)    float32\n",
       "Activity Level             object\n",
       "Stress Level               object\n",
       "dtype: object"
      ]
     },
     "execution_count": 16,
     "metadata": {},
     "output_type": "execute_result"
    }
   ],
   "source": [
    "df.dtypes"
   ]
  },
  {
   "cell_type": "markdown",
   "id": "2f6af4f6",
   "metadata": {},
   "source": [
    "##### Просмотр уникальных значений в столбце"
   ]
  },
  {
   "cell_type": "code",
   "execution_count": 17,
   "id": "9016c87b",
   "metadata": {},
   "outputs": [
    {
     "data": {
      "text/plain": [
       "Sleep Duration (hours)\n",
       "NaN         397\n",
       "5.531864      2\n",
       "7.596694      2\n",
       "5.691001      1\n",
       "6.276536      1\n",
       "           ... \n",
       "7.144240      1\n",
       "7.462107      1\n",
       "4.546931      1\n",
       "3.957880      1\n",
       "8.021722      1\n",
       "Name: count, Length: 9602, dtype: int64"
      ]
     },
     "execution_count": 17,
     "metadata": {},
     "output_type": "execute_result"
    }
   ],
   "source": [
    "df['Sleep Duration (hours)'].value_counts(dropna=False)"
   ]
  },
  {
   "cell_type": "markdown",
   "id": "fcbeba90",
   "metadata": {},
   "source": [
    "##### Заменяем пропущенные значения в столбце средними значениями, рассчитанными для соответствующих групп"
   ]
  },
  {
   "cell_type": "code",
   "execution_count": 18,
   "id": "6cbab126",
   "metadata": {},
   "outputs": [
    {
     "data": {
      "text/plain": [
       "User ID                     0\n",
       "Heart Rate (BPM)            0\n",
       "Blood Oxygen Level (%)      0\n",
       "Step Count                  0\n",
       "Sleep Duration (hours)      0\n",
       "Activity Level            200\n",
       "Stress Level              200\n",
       "dtype: int64"
      ]
     },
     "execution_count": 18,
     "metadata": {},
     "output_type": "execute_result"
    }
   ],
   "source": [
    "# разделяем DataFrame на группы на основе значений в столбцах 'Activity Level' и 'Stress Level'\n",
    "df['Sleep Duration (hours)'] = df.groupby(['Activity Level','Stress Level'],\n",
    "                                          dropna=False)['Sleep Duration (hours)'].transform(lambda x: x.fillna(x.mean()))\n",
    "df.isnull().sum()   # просмотр количества отсуктствующих значений по столбцам"
   ]
  },
  {
   "cell_type": "markdown",
   "id": "95a553c5",
   "metadata": {},
   "source": [
    "#### Просмотр размера DataFrame(df)"
   ]
  },
  {
   "cell_type": "code",
   "execution_count": 19,
   "id": "8d42438c",
   "metadata": {},
   "outputs": [
    {
     "data": {
      "text/plain": [
       "10000"
      ]
     },
     "execution_count": 19,
     "metadata": {},
     "output_type": "execute_result"
    }
   ],
   "source": [
    "len(df)"
   ]
  },
  {
   "cell_type": "markdown",
   "id": "57bc10cd",
   "metadata": {},
   "source": [
    "#### Удаляем отсутствующие значения в остальных столбцах"
   ]
  },
  {
   "cell_type": "code",
   "execution_count": 20,
   "id": "9d9b483d",
   "metadata": {},
   "outputs": [],
   "source": [
    "df = df.dropna()"
   ]
  },
  {
   "cell_type": "markdown",
   "id": "eb77362e",
   "metadata": {},
   "source": [
    "#### Просмотр новой длины DataFrame(df)"
   ]
  },
  {
   "cell_type": "code",
   "execution_count": 21,
   "id": "6c9dae32",
   "metadata": {},
   "outputs": [
    {
     "data": {
      "text/plain": [
       "9603"
      ]
     },
     "execution_count": 21,
     "metadata": {},
     "output_type": "execute_result"
    }
   ],
   "source": [
    "len(df)"
   ]
  },
  {
   "cell_type": "markdown",
   "id": "df820fa8",
   "metadata": {},
   "source": [
    "# Человеческое обучение"
   ]
  },
  {
   "cell_type": "markdown",
   "id": "1291638f",
   "metadata": {},
   "source": [
    "## Обучающая и тестовая выборка (train and test)"
   ]
  },
  {
   "cell_type": "markdown",
   "id": "755ab66f",
   "metadata": {},
   "source": [
    "### Разделение данных на train/test"
   ]
  },
  {
   "cell_type": "code",
   "execution_count": 22,
   "id": "ddf825fb",
   "metadata": {},
   "outputs": [],
   "source": [
    "train, test = train_test_split(df, random_state=42)"
   ]
  },
  {
   "cell_type": "markdown",
   "id": "ad0681d5",
   "metadata": {},
   "source": [
    "### Просмотр размера DataFrame(df)"
   ]
  },
  {
   "cell_type": "code",
   "execution_count": 23,
   "id": "a4a9c57b",
   "metadata": {},
   "outputs": [
    {
     "data": {
      "text/plain": [
       "9603"
      ]
     },
     "execution_count": 23,
     "metadata": {},
     "output_type": "execute_result"
    }
   ],
   "source": [
    "len(df)"
   ]
  },
  {
   "cell_type": "markdown",
   "id": "40d33d1f",
   "metadata": {},
   "source": [
    "### Просмотр длины обучающей выборки"
   ]
  },
  {
   "cell_type": "code",
   "execution_count": 24,
   "id": "13cea201",
   "metadata": {},
   "outputs": [
    {
     "data": {
      "text/plain": [
       "7202"
      ]
     },
     "execution_count": 24,
     "metadata": {},
     "output_type": "execute_result"
    }
   ],
   "source": [
    "len(train)"
   ]
  },
  {
   "cell_type": "markdown",
   "id": "414dc3d5",
   "metadata": {},
   "source": [
    "### Просмотр длины тестовой выборки"
   ]
  },
  {
   "cell_type": "code",
   "execution_count": 25,
   "id": "a9ca64ce",
   "metadata": {},
   "outputs": [
    {
     "data": {
      "text/plain": [
       "2401"
      ]
     },
     "execution_count": 25,
     "metadata": {},
     "output_type": "execute_result"
    }
   ],
   "source": [
    "len(test)"
   ]
  },
  {
   "cell_type": "markdown",
   "id": "ec817e4d",
   "metadata": {},
   "source": [
    "### Просмотр доли пропусков по каждому столбцу"
   ]
  },
  {
   "cell_type": "code",
   "execution_count": 26,
   "id": "71fb61ac",
   "metadata": {},
   "outputs": [
    {
     "data": {
      "text/plain": [
       "User ID                   0.0\n",
       "Heart Rate (BPM)          0.0\n",
       "Blood Oxygen Level (%)    0.0\n",
       "Step Count                0.0\n",
       "Sleep Duration (hours)    0.0\n",
       "Activity Level            0.0\n",
       "Stress Level              0.0\n",
       "dtype: float64"
      ]
     },
     "execution_count": 26,
     "metadata": {},
     "output_type": "execute_result"
    }
   ],
   "source": [
    "train.isna().mean()"
   ]
  },
  {
   "cell_type": "markdown",
   "id": "57286280",
   "metadata": {},
   "source": [
    "### Распределение столбца Heaart Rate (BPM)"
   ]
  },
  {
   "cell_type": "code",
   "execution_count": 27,
   "id": "5ae71c87",
   "metadata": {},
   "outputs": [
    {
     "data": {
      "image/png": "[encoded data removed]",
      "text/plain": [
       "<Figure size 640x480 with 1 Axes>"
      ]
     },
     "metadata": {},
     "output_type": "display_data"
    }
   ],
   "source": [
    "train['Heart Rate (BPM)'].hist()\n",
    "plt.title('Распределение Heart Rate (BPM)')\n",
    "plt.show()"
   ]
  },
  {
   "cell_type": "markdown",
   "id": "0b1e83d4",
   "metadata": {},
   "source": [
    "### Просмотр базовой статистику по столбцу Heart Rate (BPM)"
   ]
  },
  {
   "cell_type": "code",
   "execution_count": 28,
   "id": "a71b2537",
   "metadata": {},
   "outputs": [
    {
     "data": {
      "text/plain": [
       "count    7202.000000\n",
       "mean       76.046746\n",
       "std        18.485250\n",
       "min        40.000000\n",
       "25%        65.459926\n",
       "50%        75.681688\n",
       "75%        84.996836\n",
       "max       293.221756\n",
       "Name: Heart Rate (BPM), dtype: float64"
      ]
     },
     "execution_count": 28,
     "metadata": {},
     "output_type": "execute_result"
    }
   ],
   "source": [
    "train['Heart Rate (BPM)'].describe()"
   ]
  },
  {
   "cell_type": "markdown",
   "id": "49da2243",
   "metadata": {},
   "source": [
    "### Группировка данных Heart Rate (BPM) в зависимости от Activity Level"
   ]
  },
  {
   "cell_type": "code",
   "execution_count": 29,
   "id": "5ee4848c",
   "metadata": {},
   "outputs": [
    {
     "data": {
      "text/html": [
       "<div>\n",
       "<style scoped>\n",
       "    .dataframe tbody tr th:only-of-type {\n",
       "        vertical-align: middle;\n",
       "    }\n",
       "\n",
       "    .dataframe tbody tr th {\n",
       "        vertical-align: top;\n",
       "    }\n",
       "\n",
       "    .dataframe thead th {\n",
       "        text-align: right;\n",
       "    }\n",
       "</style>\n",
       "<table border=\"1\" class=\"dataframe\">\n",
       "  <thead>\n",
       "    <tr style=\"text-align: right;\">\n",
       "      <th></th>\n",
       "      <th>count</th>\n",
       "      <th>mean</th>\n",
       "      <th>median</th>\n",
       "    </tr>\n",
       "    <tr>\n",
       "      <th>Activity Level</th>\n",
       "      <th></th>\n",
       "      <th></th>\n",
       "      <th></th>\n",
       "    </tr>\n",
       "  </thead>\n",
       "  <tbody>\n",
       "    <tr>\n",
       "      <th>Active</th>\n",
       "      <td>2411</td>\n",
       "      <td>76.385151</td>\n",
       "      <td>76.081186</td>\n",
       "    </tr>\n",
       "    <tr>\n",
       "      <th>Highly Active</th>\n",
       "      <td>2359</td>\n",
       "      <td>75.900382</td>\n",
       "      <td>75.247710</td>\n",
       "    </tr>\n",
       "    <tr>\n",
       "      <th>Sedentary</th>\n",
       "      <td>2432</td>\n",
       "      <td>75.853233</td>\n",
       "      <td>75.670431</td>\n",
       "    </tr>\n",
       "  </tbody>\n",
       "</table>\n",
       "</div>"
      ],
      "text/plain": [
       "                count       mean     median\n",
       "Activity Level                             \n",
       "Active           2411  76.385151  76.081186\n",
       "Highly Active    2359  75.900382  75.247710\n",
       "Sedentary        2432  75.853233  75.670431"
      ]
     },
     "execution_count": 29,
     "metadata": {},
     "output_type": "execute_result"
    }
   ],
   "source": [
    "train.groupby('Activity Level')['Heart Rate (BPM)'].agg(['count','mean','median'])"
   ]
  },
  {
   "cell_type": "code",
   "execution_count": 30,
   "id": "e357ef3d",
   "metadata": {},
   "outputs": [
    {
     "data": {
      "text/plain": [
       "<Axes: xlabel='Activity Level'>"
      ]
     },
     "execution_count": 30,
     "metadata": {},
     "output_type": "execute_result"
    },
    {
     "data": {
      "image/png": "[encoded data removed]",
      "text/plain": [
       "<Figure size 640x480 with 1 Axes>"
      ]
     },
     "metadata": {},
     "output_type": "display_data"
    }
   ],
   "source": [
    "train.groupby('Activity Level')['Heart Rate (BPM)'].median().plot()"
   ]
  },
  {
   "cell_type": "markdown",
   "id": "eb2b31a3",
   "metadata": {},
   "source": [
    "## Baseline"
   ]
  },
  {
   "cell_type": "markdown",
   "id": "7e02178b",
   "metadata": {},
   "source": [
    "### Создаем новый столбец со средним значением Heart Rate (BPM)"
   ]
  },
  {
   "cell_type": "code",
   "execution_count": 31,
   "id": "97643b62",
   "metadata": {},
   "outputs": [
    {
     "data": {
      "text/html": [
       "<div>\n",
       "<style scoped>\n",
       "    .dataframe tbody tr th:only-of-type {\n",
       "        vertical-align: middle;\n",
       "    }\n",
       "\n",
       "    .dataframe tbody tr th {\n",
       "        vertical-align: top;\n",
       "    }\n",
       "\n",
       "    .dataframe thead th {\n",
       "        text-align: right;\n",
       "    }\n",
       "</style>\n",
       "<table border=\"1\" class=\"dataframe\">\n",
       "  <thead>\n",
       "    <tr style=\"text-align: right;\">\n",
       "      <th></th>\n",
       "      <th>User ID</th>\n",
       "      <th>Heart Rate (BPM)</th>\n",
       "      <th>Blood Oxygen Level (%)</th>\n",
       "      <th>Step Count</th>\n",
       "      <th>Sleep Duration (hours)</th>\n",
       "      <th>Activity Level</th>\n",
       "      <th>Stress Level</th>\n",
       "      <th>Heart_Rate_pred_mean</th>\n",
       "    </tr>\n",
       "  </thead>\n",
       "  <tbody>\n",
       "    <tr>\n",
       "      <th>227</th>\n",
       "      <td>0.317829</td>\n",
       "      <td>80.501251</td>\n",
       "      <td>99.389649</td>\n",
       "      <td>21369.886288</td>\n",
       "      <td>4.967315</td>\n",
       "      <td>Sedentary</td>\n",
       "      <td>7</td>\n",
       "      <td>76.046746</td>\n",
       "    </tr>\n",
       "    <tr>\n",
       "      <th>4569</th>\n",
       "      <td>0.959240</td>\n",
       "      <td>40.121512</td>\n",
       "      <td>97.691890</td>\n",
       "      <td>19458.082930</td>\n",
       "      <td>8.704678</td>\n",
       "      <td>Sedentary</td>\n",
       "      <td>1</td>\n",
       "      <td>76.046746</td>\n",
       "    </tr>\n",
       "    <tr>\n",
       "      <th>3220</th>\n",
       "      <td>0.361852</td>\n",
       "      <td>55.353907</td>\n",
       "      <td>95.403392</td>\n",
       "      <td>4800.320140</td>\n",
       "      <td>6.305910</td>\n",
       "      <td>Highly Active</td>\n",
       "      <td>3</td>\n",
       "      <td>76.046746</td>\n",
       "    </tr>\n",
       "    <tr>\n",
       "      <th>4208</th>\n",
       "      <td>0.449914</td>\n",
       "      <td>77.789717</td>\n",
       "      <td>98.148575</td>\n",
       "      <td>23804.963811</td>\n",
       "      <td>5.095706</td>\n",
       "      <td>Active</td>\n",
       "      <td>10</td>\n",
       "      <td>76.046746</td>\n",
       "    </tr>\n",
       "    <tr>\n",
       "      <th>7950</th>\n",
       "      <td>0.345304</td>\n",
       "      <td>85.810494</td>\n",
       "      <td>97.657129</td>\n",
       "      <td>2004.285337</td>\n",
       "      <td>6.340568</td>\n",
       "      <td>Sedentary</td>\n",
       "      <td>3</td>\n",
       "      <td>76.046746</td>\n",
       "    </tr>\n",
       "    <tr>\n",
       "      <th>...</th>\n",
       "      <td>...</td>\n",
       "      <td>...</td>\n",
       "      <td>...</td>\n",
       "      <td>...</td>\n",
       "      <td>...</td>\n",
       "      <td>...</td>\n",
       "      <td>...</td>\n",
       "      <td>...</td>\n",
       "    </tr>\n",
       "    <tr>\n",
       "      <th>5979</th>\n",
       "      <td>0.130943</td>\n",
       "      <td>82.088183</td>\n",
       "      <td>95.133174</td>\n",
       "      <td>615.480197</td>\n",
       "      <td>8.585755</td>\n",
       "      <td>Active</td>\n",
       "      <td>5</td>\n",
       "      <td>76.046746</td>\n",
       "    </tr>\n",
       "    <tr>\n",
       "      <th>5407</th>\n",
       "      <td>0.322819</td>\n",
       "      <td>90.476950</td>\n",
       "      <td>95.358706</td>\n",
       "      <td>3862.395331</td>\n",
       "      <td>6.585822</td>\n",
       "      <td>Active</td>\n",
       "      <td>6</td>\n",
       "      <td>76.046746</td>\n",
       "    </tr>\n",
       "    <tr>\n",
       "      <th>5617</th>\n",
       "      <td>0.494898</td>\n",
       "      <td>77.666869</td>\n",
       "      <td>97.993051</td>\n",
       "      <td>1855.916665</td>\n",
       "      <td>8.960456</td>\n",
       "      <td>Highly Active</td>\n",
       "      <td>2</td>\n",
       "      <td>76.046746</td>\n",
       "    </tr>\n",
       "    <tr>\n",
       "      <th>901</th>\n",
       "      <td>0.758446</td>\n",
       "      <td>74.833544</td>\n",
       "      <td>96.625981</td>\n",
       "      <td>7067.003278</td>\n",
       "      <td>6.493064</td>\n",
       "      <td>Sedentary</td>\n",
       "      <td>6</td>\n",
       "      <td>76.046746</td>\n",
       "    </tr>\n",
       "    <tr>\n",
       "      <th>7573</th>\n",
       "      <td>0.425325</td>\n",
       "      <td>75.516886</td>\n",
       "      <td>99.959829</td>\n",
       "      <td>2121.912875</td>\n",
       "      <td>4.931994</td>\n",
       "      <td>Sedentary</td>\n",
       "      <td>10</td>\n",
       "      <td>76.046746</td>\n",
       "    </tr>\n",
       "  </tbody>\n",
       "</table>\n",
       "<p>7202 rows × 8 columns</p>\n",
       "</div>"
      ],
      "text/plain": [
       "       User ID  Heart Rate (BPM)  Blood Oxygen Level (%)    Step Count  \\\n",
       "227   0.317829         80.501251               99.389649  21369.886288   \n",
       "4569  0.959240         40.121512               97.691890  19458.082930   \n",
       "3220  0.361852         55.353907               95.403392   4800.320140   \n",
       "4208  0.449914         77.789717               98.148575  23804.963811   \n",
       "7950  0.345304         85.810494               97.657129   2004.285337   \n",
       "...        ...               ...                     ...           ...   \n",
       "5979  0.130943         82.088183               95.133174    615.480197   \n",
       "5407  0.322819         90.476950               95.358706   3862.395331   \n",
       "5617  0.494898         77.666869               97.993051   1855.916665   \n",
       "901   0.758446         74.833544               96.625981   7067.003278   \n",
       "7573  0.425325         75.516886               99.959829   2121.912875   \n",
       "\n",
       "      Sleep Duration (hours) Activity Level Stress Level  Heart_Rate_pred_mean  \n",
       "227                 4.967315      Sedentary            7             76.046746  \n",
       "4569                8.704678      Sedentary            1             76.046746  \n",
       "3220                6.305910  Highly Active            3             76.046746  \n",
       "4208                5.095706         Active           10             76.046746  \n",
       "7950                6.340568      Sedentary            3             76.046746  \n",
       "...                      ...            ...          ...                   ...  \n",
       "5979                8.585755         Active            5             76.046746  \n",
       "5407                6.585822         Active            6             76.046746  \n",
       "5617                8.960456  Highly Active            2             76.046746  \n",
       "901                 6.493064      Sedentary            6             76.046746  \n",
       "7573                4.931994      Sedentary           10             76.046746  \n",
       "\n",
       "[7202 rows x 8 columns]"
      ]
     },
     "execution_count": 31,
     "metadata": {},
     "output_type": "execute_result"
    }
   ],
   "source": [
    "train['Heart_Rate_pred_mean'] = train['Heart Rate (BPM)'].mean()\n",
    "train"
   ]
  },
  {
   "cell_type": "markdown",
   "id": "865148e7",
   "metadata": {},
   "source": [
    "### Вычисляем ошибку предсказания между средним и фактическим"
   ]
  },
  {
   "cell_type": "code",
   "execution_count": 32,
   "id": "12a34881",
   "metadata": {},
   "outputs": [
    {
     "data": {
      "text/html": [
       "<div>\n",
       "<style scoped>\n",
       "    .dataframe tbody tr th:only-of-type {\n",
       "        vertical-align: middle;\n",
       "    }\n",
       "\n",
       "    .dataframe tbody tr th {\n",
       "        vertical-align: top;\n",
       "    }\n",
       "\n",
       "    .dataframe thead th {\n",
       "        text-align: right;\n",
       "    }\n",
       "</style>\n",
       "<table border=\"1\" class=\"dataframe\">\n",
       "  <thead>\n",
       "    <tr style=\"text-align: right;\">\n",
       "      <th></th>\n",
       "      <th>User ID</th>\n",
       "      <th>Heart Rate (BPM)</th>\n",
       "      <th>Blood Oxygen Level (%)</th>\n",
       "      <th>Step Count</th>\n",
       "      <th>Sleep Duration (hours)</th>\n",
       "      <th>Activity Level</th>\n",
       "      <th>Stress Level</th>\n",
       "      <th>Heart_Rate_pred_mean</th>\n",
       "      <th>err</th>\n",
       "    </tr>\n",
       "  </thead>\n",
       "  <tbody>\n",
       "    <tr>\n",
       "      <th>227</th>\n",
       "      <td>0.317829</td>\n",
       "      <td>80.501251</td>\n",
       "      <td>99.389649</td>\n",
       "      <td>21369.886288</td>\n",
       "      <td>4.967315</td>\n",
       "      <td>Sedentary</td>\n",
       "      <td>7</td>\n",
       "      <td>76.046746</td>\n",
       "      <td>-4.454505</td>\n",
       "    </tr>\n",
       "    <tr>\n",
       "      <th>4569</th>\n",
       "      <td>0.959240</td>\n",
       "      <td>40.121512</td>\n",
       "      <td>97.691890</td>\n",
       "      <td>19458.082930</td>\n",
       "      <td>8.704678</td>\n",
       "      <td>Sedentary</td>\n",
       "      <td>1</td>\n",
       "      <td>76.046746</td>\n",
       "      <td>35.925234</td>\n",
       "    </tr>\n",
       "    <tr>\n",
       "      <th>3220</th>\n",
       "      <td>0.361852</td>\n",
       "      <td>55.353907</td>\n",
       "      <td>95.403392</td>\n",
       "      <td>4800.320140</td>\n",
       "      <td>6.305910</td>\n",
       "      <td>Highly Active</td>\n",
       "      <td>3</td>\n",
       "      <td>76.046746</td>\n",
       "      <td>20.692838</td>\n",
       "    </tr>\n",
       "    <tr>\n",
       "      <th>4208</th>\n",
       "      <td>0.449914</td>\n",
       "      <td>77.789717</td>\n",
       "      <td>98.148575</td>\n",
       "      <td>23804.963811</td>\n",
       "      <td>5.095706</td>\n",
       "      <td>Active</td>\n",
       "      <td>10</td>\n",
       "      <td>76.046746</td>\n",
       "      <td>-1.742971</td>\n",
       "    </tr>\n",
       "    <tr>\n",
       "      <th>7950</th>\n",
       "      <td>0.345304</td>\n",
       "      <td>85.810494</td>\n",
       "      <td>97.657129</td>\n",
       "      <td>2004.285337</td>\n",
       "      <td>6.340568</td>\n",
       "      <td>Sedentary</td>\n",
       "      <td>3</td>\n",
       "      <td>76.046746</td>\n",
       "      <td>-9.763748</td>\n",
       "    </tr>\n",
       "    <tr>\n",
       "      <th>...</th>\n",
       "      <td>...</td>\n",
       "      <td>...</td>\n",
       "      <td>...</td>\n",
       "      <td>...</td>\n",
       "      <td>...</td>\n",
       "      <td>...</td>\n",
       "      <td>...</td>\n",
       "      <td>...</td>\n",
       "      <td>...</td>\n",
       "    </tr>\n",
       "    <tr>\n",
       "      <th>5979</th>\n",
       "      <td>0.130943</td>\n",
       "      <td>82.088183</td>\n",
       "      <td>95.133174</td>\n",
       "      <td>615.480197</td>\n",
       "      <td>8.585755</td>\n",
       "      <td>Active</td>\n",
       "      <td>5</td>\n",
       "      <td>76.046746</td>\n",
       "      <td>-6.041437</td>\n",
       "    </tr>\n",
       "    <tr>\n",
       "      <th>5407</th>\n",
       "      <td>0.322819</td>\n",
       "      <td>90.476950</td>\n",
       "      <td>95.358706</td>\n",
       "      <td>3862.395331</td>\n",
       "      <td>6.585822</td>\n",
       "      <td>Active</td>\n",
       "      <td>6</td>\n",
       "      <td>76.046746</td>\n",
       "      <td>-14.430204</td>\n",
       "    </tr>\n",
       "    <tr>\n",
       "      <th>5617</th>\n",
       "      <td>0.494898</td>\n",
       "      <td>77.666869</td>\n",
       "      <td>97.993051</td>\n",
       "      <td>1855.916665</td>\n",
       "      <td>8.960456</td>\n",
       "      <td>Highly Active</td>\n",
       "      <td>2</td>\n",
       "      <td>76.046746</td>\n",
       "      <td>-1.620123</td>\n",
       "    </tr>\n",
       "    <tr>\n",
       "      <th>901</th>\n",
       "      <td>0.758446</td>\n",
       "      <td>74.833544</td>\n",
       "      <td>96.625981</td>\n",
       "      <td>7067.003278</td>\n",
       "      <td>6.493064</td>\n",
       "      <td>Sedentary</td>\n",
       "      <td>6</td>\n",
       "      <td>76.046746</td>\n",
       "      <td>1.213202</td>\n",
       "    </tr>\n",
       "    <tr>\n",
       "      <th>7573</th>\n",
       "      <td>0.425325</td>\n",
       "      <td>75.516886</td>\n",
       "      <td>99.959829</td>\n",
       "      <td>2121.912875</td>\n",
       "      <td>4.931994</td>\n",
       "      <td>Sedentary</td>\n",
       "      <td>10</td>\n",
       "      <td>76.046746</td>\n",
       "      <td>0.529860</td>\n",
       "    </tr>\n",
       "  </tbody>\n",
       "</table>\n",
       "<p>7202 rows × 9 columns</p>\n",
       "</div>"
      ],
      "text/plain": [
       "       User ID  Heart Rate (BPM)  Blood Oxygen Level (%)    Step Count  \\\n",
       "227   0.317829         80.501251               99.389649  21369.886288   \n",
       "4569  0.959240         40.121512               97.691890  19458.082930   \n",
       "3220  0.361852         55.353907               95.403392   4800.320140   \n",
       "4208  0.449914         77.789717               98.148575  23804.963811   \n",
       "7950  0.345304         85.810494               97.657129   2004.285337   \n",
       "...        ...               ...                     ...           ...   \n",
       "5979  0.130943         82.088183               95.133174    615.480197   \n",
       "5407  0.322819         90.476950               95.358706   3862.395331   \n",
       "5617  0.494898         77.666869               97.993051   1855.916665   \n",
       "901   0.758446         74.833544               96.625981   7067.003278   \n",
       "7573  0.425325         75.516886               99.959829   2121.912875   \n",
       "\n",
       "      Sleep Duration (hours) Activity Level Stress Level  \\\n",
       "227                 4.967315      Sedentary            7   \n",
       "4569                8.704678      Sedentary            1   \n",
       "3220                6.305910  Highly Active            3   \n",
       "4208                5.095706         Active           10   \n",
       "7950                6.340568      Sedentary            3   \n",
       "...                      ...            ...          ...   \n",
       "5979                8.585755         Active            5   \n",
       "5407                6.585822         Active            6   \n",
       "5617                8.960456  Highly Active            2   \n",
       "901                 6.493064      Sedentary            6   \n",
       "7573                4.931994      Sedentary           10   \n",
       "\n",
       "      Heart_Rate_pred_mean        err  \n",
       "227              76.046746  -4.454505  \n",
       "4569             76.046746  35.925234  \n",
       "3220             76.046746  20.692838  \n",
       "4208             76.046746  -1.742971  \n",
       "7950             76.046746  -9.763748  \n",
       "...                    ...        ...  \n",
       "5979             76.046746  -6.041437  \n",
       "5407             76.046746 -14.430204  \n",
       "5617             76.046746  -1.620123  \n",
       "901              76.046746   1.213202  \n",
       "7573             76.046746   0.529860  \n",
       "\n",
       "[7202 rows x 9 columns]"
      ]
     },
     "execution_count": 32,
     "metadata": {},
     "output_type": "execute_result"
    }
   ],
   "source": [
    "train['err'] = train['Heart_Rate_pred_mean'] - train['Heart Rate (BPM)']\n",
    "train"
   ]
  },
  {
   "cell_type": "markdown",
   "id": "c2831ff8",
   "metadata": {},
   "source": [
    "### Вычисляем абсолютную ошибку предсказания"
   ]
  },
  {
   "cell_type": "code",
   "execution_count": 33,
   "id": "685e361a",
   "metadata": {},
   "outputs": [
    {
     "data": {
      "text/html": [
       "<div>\n",
       "<style scoped>\n",
       "    .dataframe tbody tr th:only-of-type {\n",
       "        vertical-align: middle;\n",
       "    }\n",
       "\n",
       "    .dataframe tbody tr th {\n",
       "        vertical-align: top;\n",
       "    }\n",
       "\n",
       "    .dataframe thead th {\n",
       "        text-align: right;\n",
       "    }\n",
       "</style>\n",
       "<table border=\"1\" class=\"dataframe\">\n",
       "  <thead>\n",
       "    <tr style=\"text-align: right;\">\n",
       "      <th></th>\n",
       "      <th>User ID</th>\n",
       "      <th>Heart Rate (BPM)</th>\n",
       "      <th>Blood Oxygen Level (%)</th>\n",
       "      <th>Step Count</th>\n",
       "      <th>Sleep Duration (hours)</th>\n",
       "      <th>Activity Level</th>\n",
       "      <th>Stress Level</th>\n",
       "      <th>Heart_Rate_pred_mean</th>\n",
       "      <th>err</th>\n",
       "      <th>err_abs</th>\n",
       "    </tr>\n",
       "  </thead>\n",
       "  <tbody>\n",
       "    <tr>\n",
       "      <th>227</th>\n",
       "      <td>0.317829</td>\n",
       "      <td>80.501251</td>\n",
       "      <td>99.389649</td>\n",
       "      <td>21369.886288</td>\n",
       "      <td>4.967315</td>\n",
       "      <td>Sedentary</td>\n",
       "      <td>7</td>\n",
       "      <td>76.046746</td>\n",
       "      <td>-4.454505</td>\n",
       "      <td>4.454505</td>\n",
       "    </tr>\n",
       "    <tr>\n",
       "      <th>4569</th>\n",
       "      <td>0.959240</td>\n",
       "      <td>40.121512</td>\n",
       "      <td>97.691890</td>\n",
       "      <td>19458.082930</td>\n",
       "      <td>8.704678</td>\n",
       "      <td>Sedentary</td>\n",
       "      <td>1</td>\n",
       "      <td>76.046746</td>\n",
       "      <td>35.925234</td>\n",
       "      <td>35.925234</td>\n",
       "    </tr>\n",
       "    <tr>\n",
       "      <th>3220</th>\n",
       "      <td>0.361852</td>\n",
       "      <td>55.353907</td>\n",
       "      <td>95.403392</td>\n",
       "      <td>4800.320140</td>\n",
       "      <td>6.305910</td>\n",
       "      <td>Highly Active</td>\n",
       "      <td>3</td>\n",
       "      <td>76.046746</td>\n",
       "      <td>20.692838</td>\n",
       "      <td>20.692838</td>\n",
       "    </tr>\n",
       "    <tr>\n",
       "      <th>4208</th>\n",
       "      <td>0.449914</td>\n",
       "      <td>77.789717</td>\n",
       "      <td>98.148575</td>\n",
       "      <td>23804.963811</td>\n",
       "      <td>5.095706</td>\n",
       "      <td>Active</td>\n",
       "      <td>10</td>\n",
       "      <td>76.046746</td>\n",
       "      <td>-1.742971</td>\n",
       "      <td>1.742971</td>\n",
       "    </tr>\n",
       "    <tr>\n",
       "      <th>7950</th>\n",
       "      <td>0.345304</td>\n",
       "      <td>85.810494</td>\n",
       "      <td>97.657129</td>\n",
       "      <td>2004.285337</td>\n",
       "      <td>6.340568</td>\n",
       "      <td>Sedentary</td>\n",
       "      <td>3</td>\n",
       "      <td>76.046746</td>\n",
       "      <td>-9.763748</td>\n",
       "      <td>9.763748</td>\n",
       "    </tr>\n",
       "    <tr>\n",
       "      <th>...</th>\n",
       "      <td>...</td>\n",
       "      <td>...</td>\n",
       "      <td>...</td>\n",
       "      <td>...</td>\n",
       "      <td>...</td>\n",
       "      <td>...</td>\n",
       "      <td>...</td>\n",
       "      <td>...</td>\n",
       "      <td>...</td>\n",
       "      <td>...</td>\n",
       "    </tr>\n",
       "    <tr>\n",
       "      <th>5979</th>\n",
       "      <td>0.130943</td>\n",
       "      <td>82.088183</td>\n",
       "      <td>95.133174</td>\n",
       "      <td>615.480197</td>\n",
       "      <td>8.585755</td>\n",
       "      <td>Active</td>\n",
       "      <td>5</td>\n",
       "      <td>76.046746</td>\n",
       "      <td>-6.041437</td>\n",
       "      <td>6.041437</td>\n",
       "    </tr>\n",
       "    <tr>\n",
       "      <th>5407</th>\n",
       "      <td>0.322819</td>\n",
       "      <td>90.476950</td>\n",
       "      <td>95.358706</td>\n",
       "      <td>3862.395331</td>\n",
       "      <td>6.585822</td>\n",
       "      <td>Active</td>\n",
       "      <td>6</td>\n",
       "      <td>76.046746</td>\n",
       "      <td>-14.430204</td>\n",
       "      <td>14.430204</td>\n",
       "    </tr>\n",
       "    <tr>\n",
       "      <th>5617</th>\n",
       "      <td>0.494898</td>\n",
       "      <td>77.666869</td>\n",
       "      <td>97.993051</td>\n",
       "      <td>1855.916665</td>\n",
       "      <td>8.960456</td>\n",
       "      <td>Highly Active</td>\n",
       "      <td>2</td>\n",
       "      <td>76.046746</td>\n",
       "      <td>-1.620123</td>\n",
       "      <td>1.620123</td>\n",
       "    </tr>\n",
       "    <tr>\n",
       "      <th>901</th>\n",
       "      <td>0.758446</td>\n",
       "      <td>74.833544</td>\n",
       "      <td>96.625981</td>\n",
       "      <td>7067.003278</td>\n",
       "      <td>6.493064</td>\n",
       "      <td>Sedentary</td>\n",
       "      <td>6</td>\n",
       "      <td>76.046746</td>\n",
       "      <td>1.213202</td>\n",
       "      <td>1.213202</td>\n",
       "    </tr>\n",
       "    <tr>\n",
       "      <th>7573</th>\n",
       "      <td>0.425325</td>\n",
       "      <td>75.516886</td>\n",
       "      <td>99.959829</td>\n",
       "      <td>2121.912875</td>\n",
       "      <td>4.931994</td>\n",
       "      <td>Sedentary</td>\n",
       "      <td>10</td>\n",
       "      <td>76.046746</td>\n",
       "      <td>0.529860</td>\n",
       "      <td>0.529860</td>\n",
       "    </tr>\n",
       "  </tbody>\n",
       "</table>\n",
       "<p>7202 rows × 10 columns</p>\n",
       "</div>"
      ],
      "text/plain": [
       "       User ID  Heart Rate (BPM)  Blood Oxygen Level (%)    Step Count  \\\n",
       "227   0.317829         80.501251               99.389649  21369.886288   \n",
       "4569  0.959240         40.121512               97.691890  19458.082930   \n",
       "3220  0.361852         55.353907               95.403392   4800.320140   \n",
       "4208  0.449914         77.789717               98.148575  23804.963811   \n",
       "7950  0.345304         85.810494               97.657129   2004.285337   \n",
       "...        ...               ...                     ...           ...   \n",
       "5979  0.130943         82.088183               95.133174    615.480197   \n",
       "5407  0.322819         90.476950               95.358706   3862.395331   \n",
       "5617  0.494898         77.666869               97.993051   1855.916665   \n",
       "901   0.758446         74.833544               96.625981   7067.003278   \n",
       "7573  0.425325         75.516886               99.959829   2121.912875   \n",
       "\n",
       "      Sleep Duration (hours) Activity Level Stress Level  \\\n",
       "227                 4.967315      Sedentary            7   \n",
       "4569                8.704678      Sedentary            1   \n",
       "3220                6.305910  Highly Active            3   \n",
       "4208                5.095706         Active           10   \n",
       "7950                6.340568      Sedentary            3   \n",
       "...                      ...            ...          ...   \n",
       "5979                8.585755         Active            5   \n",
       "5407                6.585822         Active            6   \n",
       "5617                8.960456  Highly Active            2   \n",
       "901                 6.493064      Sedentary            6   \n",
       "7573                4.931994      Sedentary           10   \n",
       "\n",
       "      Heart_Rate_pred_mean        err    err_abs  \n",
       "227              76.046746  -4.454505   4.454505  \n",
       "4569             76.046746  35.925234  35.925234  \n",
       "3220             76.046746  20.692838  20.692838  \n",
       "4208             76.046746  -1.742971   1.742971  \n",
       "7950             76.046746  -9.763748   9.763748  \n",
       "...                    ...        ...        ...  \n",
       "5979             76.046746  -6.041437   6.041437  \n",
       "5407             76.046746 -14.430204  14.430204  \n",
       "5617             76.046746  -1.620123   1.620123  \n",
       "901              76.046746   1.213202   1.213202  \n",
       "7573             76.046746   0.529860   0.529860  \n",
       "\n",
       "[7202 rows x 10 columns]"
      ]
     },
     "execution_count": 33,
     "metadata": {},
     "output_type": "execute_result"
    }
   ],
   "source": [
    "train['err_abs'] = abs(train['err'])\n",
    "train"
   ]
  },
  {
   "cell_type": "markdown",
   "id": "b999ba99",
   "metadata": {},
   "source": [
    "### Вычисление средней абсолютной ошибки"
   ]
  },
  {
   "cell_type": "code",
   "execution_count": 34,
   "id": "973fbac4",
   "metadata": {},
   "outputs": [
    {
     "data": {
      "text/plain": [
       "np.float64(12.176911085404672)"
      ]
     },
     "execution_count": 34,
     "metadata": {},
     "output_type": "execute_result"
    }
   ],
   "source": [
    "train['err_abs'].mean()"
   ]
  },
  {
   "cell_type": "markdown",
   "id": "06536f0a",
   "metadata": {},
   "source": [
    "### Вычисление относительной ошибки предсказания"
   ]
  },
  {
   "cell_type": "code",
   "execution_count": 35,
   "id": "b850fbc8",
   "metadata": {},
   "outputs": [
    {
     "data": {
      "text/html": [
       "<div>\n",
       "<style scoped>\n",
       "    .dataframe tbody tr th:only-of-type {\n",
       "        vertical-align: middle;\n",
       "    }\n",
       "\n",
       "    .dataframe tbody tr th {\n",
       "        vertical-align: top;\n",
       "    }\n",
       "\n",
       "    .dataframe thead th {\n",
       "        text-align: right;\n",
       "    }\n",
       "</style>\n",
       "<table border=\"1\" class=\"dataframe\">\n",
       "  <thead>\n",
       "    <tr style=\"text-align: right;\">\n",
       "      <th></th>\n",
       "      <th>User ID</th>\n",
       "      <th>Heart Rate (BPM)</th>\n",
       "      <th>Blood Oxygen Level (%)</th>\n",
       "      <th>Step Count</th>\n",
       "      <th>Sleep Duration (hours)</th>\n",
       "      <th>Activity Level</th>\n",
       "      <th>Stress Level</th>\n",
       "      <th>Heart_Rate_pred_mean</th>\n",
       "      <th>err</th>\n",
       "      <th>err_abs</th>\n",
       "      <th>err_abs_pct</th>\n",
       "    </tr>\n",
       "  </thead>\n",
       "  <tbody>\n",
       "    <tr>\n",
       "      <th>227</th>\n",
       "      <td>0.317829</td>\n",
       "      <td>80.501251</td>\n",
       "      <td>99.389649</td>\n",
       "      <td>21369.886288</td>\n",
       "      <td>4.967315</td>\n",
       "      <td>Sedentary</td>\n",
       "      <td>7</td>\n",
       "      <td>76.046746</td>\n",
       "      <td>-4.454505</td>\n",
       "      <td>4.454505</td>\n",
       "      <td>0.055335</td>\n",
       "    </tr>\n",
       "    <tr>\n",
       "      <th>4569</th>\n",
       "      <td>0.959240</td>\n",
       "      <td>40.121512</td>\n",
       "      <td>97.691890</td>\n",
       "      <td>19458.082930</td>\n",
       "      <td>8.704678</td>\n",
       "      <td>Sedentary</td>\n",
       "      <td>1</td>\n",
       "      <td>76.046746</td>\n",
       "      <td>35.925234</td>\n",
       "      <td>35.925234</td>\n",
       "      <td>0.895411</td>\n",
       "    </tr>\n",
       "    <tr>\n",
       "      <th>3220</th>\n",
       "      <td>0.361852</td>\n",
       "      <td>55.353907</td>\n",
       "      <td>95.403392</td>\n",
       "      <td>4800.320140</td>\n",
       "      <td>6.305910</td>\n",
       "      <td>Highly Active</td>\n",
       "      <td>3</td>\n",
       "      <td>76.046746</td>\n",
       "      <td>20.692838</td>\n",
       "      <td>20.692838</td>\n",
       "      <td>0.373828</td>\n",
       "    </tr>\n",
       "    <tr>\n",
       "      <th>4208</th>\n",
       "      <td>0.449914</td>\n",
       "      <td>77.789717</td>\n",
       "      <td>98.148575</td>\n",
       "      <td>23804.963811</td>\n",
       "      <td>5.095706</td>\n",
       "      <td>Active</td>\n",
       "      <td>10</td>\n",
       "      <td>76.046746</td>\n",
       "      <td>-1.742971</td>\n",
       "      <td>1.742971</td>\n",
       "      <td>0.022406</td>\n",
       "    </tr>\n",
       "    <tr>\n",
       "      <th>7950</th>\n",
       "      <td>0.345304</td>\n",
       "      <td>85.810494</td>\n",
       "      <td>97.657129</td>\n",
       "      <td>2004.285337</td>\n",
       "      <td>6.340568</td>\n",
       "      <td>Sedentary</td>\n",
       "      <td>3</td>\n",
       "      <td>76.046746</td>\n",
       "      <td>-9.763748</td>\n",
       "      <td>9.763748</td>\n",
       "      <td>0.113783</td>\n",
       "    </tr>\n",
       "    <tr>\n",
       "      <th>...</th>\n",
       "      <td>...</td>\n",
       "      <td>...</td>\n",
       "      <td>...</td>\n",
       "      <td>...</td>\n",
       "      <td>...</td>\n",
       "      <td>...</td>\n",
       "      <td>...</td>\n",
       "      <td>...</td>\n",
       "      <td>...</td>\n",
       "      <td>...</td>\n",
       "      <td>...</td>\n",
       "    </tr>\n",
       "    <tr>\n",
       "      <th>5979</th>\n",
       "      <td>0.130943</td>\n",
       "      <td>82.088183</td>\n",
       "      <td>95.133174</td>\n",
       "      <td>615.480197</td>\n",
       "      <td>8.585755</td>\n",
       "      <td>Active</td>\n",
       "      <td>5</td>\n",
       "      <td>76.046746</td>\n",
       "      <td>-6.041437</td>\n",
       "      <td>6.041437</td>\n",
       "      <td>0.073597</td>\n",
       "    </tr>\n",
       "    <tr>\n",
       "      <th>5407</th>\n",
       "      <td>0.322819</td>\n",
       "      <td>90.476950</td>\n",
       "      <td>95.358706</td>\n",
       "      <td>3862.395331</td>\n",
       "      <td>6.585822</td>\n",
       "      <td>Active</td>\n",
       "      <td>6</td>\n",
       "      <td>76.046746</td>\n",
       "      <td>-14.430204</td>\n",
       "      <td>14.430204</td>\n",
       "      <td>0.159490</td>\n",
       "    </tr>\n",
       "    <tr>\n",
       "      <th>5617</th>\n",
       "      <td>0.494898</td>\n",
       "      <td>77.666869</td>\n",
       "      <td>97.993051</td>\n",
       "      <td>1855.916665</td>\n",
       "      <td>8.960456</td>\n",
       "      <td>Highly Active</td>\n",
       "      <td>2</td>\n",
       "      <td>76.046746</td>\n",
       "      <td>-1.620123</td>\n",
       "      <td>1.620123</td>\n",
       "      <td>0.020860</td>\n",
       "    </tr>\n",
       "    <tr>\n",
       "      <th>901</th>\n",
       "      <td>0.758446</td>\n",
       "      <td>74.833544</td>\n",
       "      <td>96.625981</td>\n",
       "      <td>7067.003278</td>\n",
       "      <td>6.493064</td>\n",
       "      <td>Sedentary</td>\n",
       "      <td>6</td>\n",
       "      <td>76.046746</td>\n",
       "      <td>1.213202</td>\n",
       "      <td>1.213202</td>\n",
       "      <td>0.016212</td>\n",
       "    </tr>\n",
       "    <tr>\n",
       "      <th>7573</th>\n",
       "      <td>0.425325</td>\n",
       "      <td>75.516886</td>\n",
       "      <td>99.959829</td>\n",
       "      <td>2121.912875</td>\n",
       "      <td>4.931994</td>\n",
       "      <td>Sedentary</td>\n",
       "      <td>10</td>\n",
       "      <td>76.046746</td>\n",
       "      <td>0.529860</td>\n",
       "      <td>0.529860</td>\n",
       "      <td>0.007016</td>\n",
       "    </tr>\n",
       "  </tbody>\n",
       "</table>\n",
       "<p>7202 rows × 11 columns</p>\n",
       "</div>"
      ],
      "text/plain": [
       "       User ID  Heart Rate (BPM)  Blood Oxygen Level (%)    Step Count  \\\n",
       "227   0.317829         80.501251               99.389649  21369.886288   \n",
       "4569  0.959240         40.121512               97.691890  19458.082930   \n",
       "3220  0.361852         55.353907               95.403392   4800.320140   \n",
       "4208  0.449914         77.789717               98.148575  23804.963811   \n",
       "7950  0.345304         85.810494               97.657129   2004.285337   \n",
       "...        ...               ...                     ...           ...   \n",
       "5979  0.130943         82.088183               95.133174    615.480197   \n",
       "5407  0.322819         90.476950               95.358706   3862.395331   \n",
       "5617  0.494898         77.666869               97.993051   1855.916665   \n",
       "901   0.758446         74.833544               96.625981   7067.003278   \n",
       "7573  0.425325         75.516886               99.959829   2121.912875   \n",
       "\n",
       "      Sleep Duration (hours) Activity Level Stress Level  \\\n",
       "227                 4.967315      Sedentary            7   \n",
       "4569                8.704678      Sedentary            1   \n",
       "3220                6.305910  Highly Active            3   \n",
       "4208                5.095706         Active           10   \n",
       "7950                6.340568      Sedentary            3   \n",
       "...                      ...            ...          ...   \n",
       "5979                8.585755         Active            5   \n",
       "5407                6.585822         Active            6   \n",
       "5617                8.960456  Highly Active            2   \n",
       "901                 6.493064      Sedentary            6   \n",
       "7573                4.931994      Sedentary           10   \n",
       "\n",
       "      Heart_Rate_pred_mean        err    err_abs  err_abs_pct  \n",
       "227              76.046746  -4.454505   4.454505     0.055335  \n",
       "4569             76.046746  35.925234  35.925234     0.895411  \n",
       "3220             76.046746  20.692838  20.692838     0.373828  \n",
       "4208             76.046746  -1.742971   1.742971     0.022406  \n",
       "7950             76.046746  -9.763748   9.763748     0.113783  \n",
       "...                    ...        ...        ...          ...  \n",
       "5979             76.046746  -6.041437   6.041437     0.073597  \n",
       "5407             76.046746 -14.430204  14.430204     0.159490  \n",
       "5617             76.046746  -1.620123   1.620123     0.020860  \n",
       "901              76.046746   1.213202   1.213202     0.016212  \n",
       "7573             76.046746   0.529860   0.529860     0.007016  \n",
       "\n",
       "[7202 rows x 11 columns]"
      ]
     },
     "execution_count": 35,
     "metadata": {},
     "output_type": "execute_result"
    }
   ],
   "source": [
    "train['err_abs_pct'] = train['err_abs'] / train['Heart Rate (BPM)']\n",
    "train"
   ]
  },
  {
   "cell_type": "markdown",
   "id": "b6288f4b",
   "metadata": {},
   "source": [
    "### Вычисление средней относительной ошибки предсказания"
   ]
  },
  {
   "cell_type": "code",
   "execution_count": 36,
   "id": "27cf5471",
   "metadata": {},
   "outputs": [
    {
     "data": {
      "text/plain": [
       "np.float64(0.16905984339525623)"
      ]
     },
     "execution_count": 36,
     "metadata": {},
     "output_type": "execute_result"
    }
   ],
   "source": [
    "train['err_abs_pct'].mean()"
   ]
  },
  {
   "cell_type": "markdown",
   "id": "0775c2ae",
   "metadata": {},
   "source": [
    "### Создаем новый столбец с медианным значением Heart Rate (BPM)"
   ]
  },
  {
   "cell_type": "code",
   "execution_count": 37,
   "id": "640f48a8",
   "metadata": {},
   "outputs": [
    {
     "data": {
      "text/html": [
       "<div>\n",
       "<style scoped>\n",
       "    .dataframe tbody tr th:only-of-type {\n",
       "        vertical-align: middle;\n",
       "    }\n",
       "\n",
       "    .dataframe tbody tr th {\n",
       "        vertical-align: top;\n",
       "    }\n",
       "\n",
       "    .dataframe thead th {\n",
       "        text-align: right;\n",
       "    }\n",
       "</style>\n",
       "<table border=\"1\" class=\"dataframe\">\n",
       "  <thead>\n",
       "    <tr style=\"text-align: right;\">\n",
       "      <th></th>\n",
       "      <th>User ID</th>\n",
       "      <th>Heart Rate (BPM)</th>\n",
       "      <th>Blood Oxygen Level (%)</th>\n",
       "      <th>Step Count</th>\n",
       "      <th>Sleep Duration (hours)</th>\n",
       "      <th>Activity Level</th>\n",
       "      <th>Stress Level</th>\n",
       "      <th>Heart_Rate_pred_mean</th>\n",
       "      <th>err</th>\n",
       "      <th>err_abs</th>\n",
       "      <th>err_abs_pct</th>\n",
       "      <th>Heart_Rate_pred_median</th>\n",
       "    </tr>\n",
       "  </thead>\n",
       "  <tbody>\n",
       "    <tr>\n",
       "      <th>227</th>\n",
       "      <td>0.317829</td>\n",
       "      <td>80.501251</td>\n",
       "      <td>99.389649</td>\n",
       "      <td>21369.886288</td>\n",
       "      <td>4.967315</td>\n",
       "      <td>Sedentary</td>\n",
       "      <td>7</td>\n",
       "      <td>76.046746</td>\n",
       "      <td>-4.454505</td>\n",
       "      <td>4.454505</td>\n",
       "      <td>0.055335</td>\n",
       "      <td>75.681688</td>\n",
       "    </tr>\n",
       "    <tr>\n",
       "      <th>4569</th>\n",
       "      <td>0.959240</td>\n",
       "      <td>40.121512</td>\n",
       "      <td>97.691890</td>\n",
       "      <td>19458.082930</td>\n",
       "      <td>8.704678</td>\n",
       "      <td>Sedentary</td>\n",
       "      <td>1</td>\n",
       "      <td>76.046746</td>\n",
       "      <td>35.925234</td>\n",
       "      <td>35.925234</td>\n",
       "      <td>0.895411</td>\n",
       "      <td>75.681688</td>\n",
       "    </tr>\n",
       "    <tr>\n",
       "      <th>3220</th>\n",
       "      <td>0.361852</td>\n",
       "      <td>55.353907</td>\n",
       "      <td>95.403392</td>\n",
       "      <td>4800.320140</td>\n",
       "      <td>6.305910</td>\n",
       "      <td>Highly Active</td>\n",
       "      <td>3</td>\n",
       "      <td>76.046746</td>\n",
       "      <td>20.692838</td>\n",
       "      <td>20.692838</td>\n",
       "      <td>0.373828</td>\n",
       "      <td>75.681688</td>\n",
       "    </tr>\n",
       "    <tr>\n",
       "      <th>4208</th>\n",
       "      <td>0.449914</td>\n",
       "      <td>77.789717</td>\n",
       "      <td>98.148575</td>\n",
       "      <td>23804.963811</td>\n",
       "      <td>5.095706</td>\n",
       "      <td>Active</td>\n",
       "      <td>10</td>\n",
       "      <td>76.046746</td>\n",
       "      <td>-1.742971</td>\n",
       "      <td>1.742971</td>\n",
       "      <td>0.022406</td>\n",
       "      <td>75.681688</td>\n",
       "    </tr>\n",
       "    <tr>\n",
       "      <th>7950</th>\n",
       "      <td>0.345304</td>\n",
       "      <td>85.810494</td>\n",
       "      <td>97.657129</td>\n",
       "      <td>2004.285337</td>\n",
       "      <td>6.340568</td>\n",
       "      <td>Sedentary</td>\n",
       "      <td>3</td>\n",
       "      <td>76.046746</td>\n",
       "      <td>-9.763748</td>\n",
       "      <td>9.763748</td>\n",
       "      <td>0.113783</td>\n",
       "      <td>75.681688</td>\n",
       "    </tr>\n",
       "    <tr>\n",
       "      <th>...</th>\n",
       "      <td>...</td>\n",
       "      <td>...</td>\n",
       "      <td>...</td>\n",
       "      <td>...</td>\n",
       "      <td>...</td>\n",
       "      <td>...</td>\n",
       "      <td>...</td>\n",
       "      <td>...</td>\n",
       "      <td>...</td>\n",
       "      <td>...</td>\n",
       "      <td>...</td>\n",
       "      <td>...</td>\n",
       "    </tr>\n",
       "    <tr>\n",
       "      <th>5979</th>\n",
       "      <td>0.130943</td>\n",
       "      <td>82.088183</td>\n",
       "      <td>95.133174</td>\n",
       "      <td>615.480197</td>\n",
       "      <td>8.585755</td>\n",
       "      <td>Active</td>\n",
       "      <td>5</td>\n",
       "      <td>76.046746</td>\n",
       "      <td>-6.041437</td>\n",
       "      <td>6.041437</td>\n",
       "      <td>0.073597</td>\n",
       "      <td>75.681688</td>\n",
       "    </tr>\n",
       "    <tr>\n",
       "      <th>5407</th>\n",
       "      <td>0.322819</td>\n",
       "      <td>90.476950</td>\n",
       "      <td>95.358706</td>\n",
       "      <td>3862.395331</td>\n",
       "      <td>6.585822</td>\n",
       "      <td>Active</td>\n",
       "      <td>6</td>\n",
       "      <td>76.046746</td>\n",
       "      <td>-14.430204</td>\n",
       "      <td>14.430204</td>\n",
       "      <td>0.159490</td>\n",
       "      <td>75.681688</td>\n",
       "    </tr>\n",
       "    <tr>\n",
       "      <th>5617</th>\n",
       "      <td>0.494898</td>\n",
       "      <td>77.666869</td>\n",
       "      <td>97.993051</td>\n",
       "      <td>1855.916665</td>\n",
       "      <td>8.960456</td>\n",
       "      <td>Highly Active</td>\n",
       "      <td>2</td>\n",
       "      <td>76.046746</td>\n",
       "      <td>-1.620123</td>\n",
       "      <td>1.620123</td>\n",
       "      <td>0.020860</td>\n",
       "      <td>75.681688</td>\n",
       "    </tr>\n",
       "    <tr>\n",
       "      <th>901</th>\n",
       "      <td>0.758446</td>\n",
       "      <td>74.833544</td>\n",
       "      <td>96.625981</td>\n",
       "      <td>7067.003278</td>\n",
       "      <td>6.493064</td>\n",
       "      <td>Sedentary</td>\n",
       "      <td>6</td>\n",
       "      <td>76.046746</td>\n",
       "      <td>1.213202</td>\n",
       "      <td>1.213202</td>\n",
       "      <td>0.016212</td>\n",
       "      <td>75.681688</td>\n",
       "    </tr>\n",
       "    <tr>\n",
       "      <th>7573</th>\n",
       "      <td>0.425325</td>\n",
       "      <td>75.516886</td>\n",
       "      <td>99.959829</td>\n",
       "      <td>2121.912875</td>\n",
       "      <td>4.931994</td>\n",
       "      <td>Sedentary</td>\n",
       "      <td>10</td>\n",
       "      <td>76.046746</td>\n",
       "      <td>0.529860</td>\n",
       "      <td>0.529860</td>\n",
       "      <td>0.007016</td>\n",
       "      <td>75.681688</td>\n",
       "    </tr>\n",
       "  </tbody>\n",
       "</table>\n",
       "<p>7202 rows × 12 columns</p>\n",
       "</div>"
      ],
      "text/plain": [
       "       User ID  Heart Rate (BPM)  Blood Oxygen Level (%)    Step Count  \\\n",
       "227   0.317829         80.501251               99.389649  21369.886288   \n",
       "4569  0.959240         40.121512               97.691890  19458.082930   \n",
       "3220  0.361852         55.353907               95.403392   4800.320140   \n",
       "4208  0.449914         77.789717               98.148575  23804.963811   \n",
       "7950  0.345304         85.810494               97.657129   2004.285337   \n",
       "...        ...               ...                     ...           ...   \n",
       "5979  0.130943         82.088183               95.133174    615.480197   \n",
       "5407  0.322819         90.476950               95.358706   3862.395331   \n",
       "5617  0.494898         77.666869               97.993051   1855.916665   \n",
       "901   0.758446         74.833544               96.625981   7067.003278   \n",
       "7573  0.425325         75.516886               99.959829   2121.912875   \n",
       "\n",
       "      Sleep Duration (hours) Activity Level Stress Level  \\\n",
       "227                 4.967315      Sedentary            7   \n",
       "4569                8.704678      Sedentary            1   \n",
       "3220                6.305910  Highly Active            3   \n",
       "4208                5.095706         Active           10   \n",
       "7950                6.340568      Sedentary            3   \n",
       "...                      ...            ...          ...   \n",
       "5979                8.585755         Active            5   \n",
       "5407                6.585822         Active            6   \n",
       "5617                8.960456  Highly Active            2   \n",
       "901                 6.493064      Sedentary            6   \n",
       "7573                4.931994      Sedentary           10   \n",
       "\n",
       "      Heart_Rate_pred_mean        err    err_abs  err_abs_pct  \\\n",
       "227              76.046746  -4.454505   4.454505     0.055335   \n",
       "4569             76.046746  35.925234  35.925234     0.895411   \n",
       "3220             76.046746  20.692838  20.692838     0.373828   \n",
       "4208             76.046746  -1.742971   1.742971     0.022406   \n",
       "7950             76.046746  -9.763748   9.763748     0.113783   \n",
       "...                    ...        ...        ...          ...   \n",
       "5979             76.046746  -6.041437   6.041437     0.073597   \n",
       "5407             76.046746 -14.430204  14.430204     0.159490   \n",
       "5617             76.046746  -1.620123   1.620123     0.020860   \n",
       "901              76.046746   1.213202   1.213202     0.016212   \n",
       "7573             76.046746   0.529860   0.529860     0.007016   \n",
       "\n",
       "      Heart_Rate_pred_median  \n",
       "227                75.681688  \n",
       "4569               75.681688  \n",
       "3220               75.681688  \n",
       "4208               75.681688  \n",
       "7950               75.681688  \n",
       "...                      ...  \n",
       "5979               75.681688  \n",
       "5407               75.681688  \n",
       "5617               75.681688  \n",
       "901                75.681688  \n",
       "7573               75.681688  \n",
       "\n",
       "[7202 rows x 12 columns]"
      ]
     },
     "execution_count": 37,
     "metadata": {},
     "output_type": "execute_result"
    }
   ],
   "source": [
    "train['Heart_Rate_pred_median'] = train['Heart Rate (BPM)'].median()\n",
    "train"
   ]
  },
  {
   "cell_type": "markdown",
   "id": "281c6fab",
   "metadata": {},
   "source": [
    "### Вычисление средней абсолютной ошибки"
   ]
  },
  {
   "cell_type": "code",
   "execution_count": 38,
   "id": "97e7c571",
   "metadata": {},
   "outputs": [
    {
     "data": {
      "text/plain": [
       "12.176911085404672"
      ]
     },
     "execution_count": 38,
     "metadata": {},
     "output_type": "execute_result"
    }
   ],
   "source": [
    "mean_absolute_error(train['Heart Rate (BPM)'],train['Heart_Rate_pred_mean'])"
   ]
  },
  {
   "cell_type": "code",
   "execution_count": 40,
   "id": "e341c11d",
   "metadata": {},
   "outputs": [
    {
     "data": {
      "text/plain": [
       "12.170031076560573"
      ]
     },
     "execution_count": 40,
     "metadata": {},
     "output_type": "execute_result"
    }
   ],
   "source": [
    "mean_absolute_error(train['Heart Rate (BPM)'],train['Heart_Rate_pred_median'])"
   ]
  },
  {
   "cell_type": "markdown",
   "id": "fca542ed",
   "metadata": {},
   "source": [
    "### Вычисление средней абсолютной процентной ошибки"
   ]
  },
  {
   "cell_type": "code",
   "execution_count": 39,
   "id": "215cd4d1",
   "metadata": {},
   "outputs": [
    {
     "data": {
      "text/plain": [
       "0.16905984339525623"
      ]
     },
     "execution_count": 39,
     "metadata": {},
     "output_type": "execute_result"
    }
   ],
   "source": [
    "mean_absolute_percentage_error(train['Heart Rate (BPM)'],train['Heart_Rate_pred_mean'])"
   ]
  },
  {
   "cell_type": "code",
   "execution_count": 41,
   "id": "0e704583",
   "metadata": {},
   "outputs": [
    {
     "data": {
      "text/plain": [
       "0.168157928400758"
      ]
     },
     "execution_count": 41,
     "metadata": {},
     "output_type": "execute_result"
    }
   ],
   "source": [
    "mean_absolute_percentage_error(train['Heart Rate (BPM)'],train['Heart_Rate_pred_median'])"
   ]
  }
 ],
 "metadata": {
  "kernelspec": {
   "display_name": ".venv",
   "language": "python",
   "name": "python3"
  },
  "language_info": {
   "codemirror_mode": {
    "name": "ipython",
    "version": 3
   },
   "file_extension": ".py",
   "mimetype": "text/x-python",
   "name": "python",
   "nbconvert_exporter": "python",
   "pygments_lexer": "ipython3",
   "version": "3.13.3"
  }
 },
 "nbformat": 4,
 "nbformat_minor": 5
}
