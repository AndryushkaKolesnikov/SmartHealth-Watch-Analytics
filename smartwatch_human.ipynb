{
 "cells": [
  {
   "cell_type": "markdown",
   "id": "348e386b",
   "metadata": {},
   "source": [
    "# Подключение библиотек"
   ]
  },
  {
   "cell_type": "code",
   "execution_count": 1,
   "id": "485d6a68",
   "metadata": {},
   "outputs": [],
   "source": [
    "# подключение библиотеки pandas\n",
    "import pandas as pd\n",
    "import numpy as np\n",
    "# подключение библиотеки matplotlib.pyplot\n",
    "import matplotlib.pyplot as plt\n",
    "# подключение библиотеки seaborn\n",
    "import seaborn as sns\n",
    "# подключение модулей из библиотеки sklearn\n",
    "from sklearn.model_selection import train_test_split\n",
    "from sklearn.metrics import mean_absolute_error, mean_absolute_percentage_error"
   ]
  },
  {
   "cell_type": "markdown",
   "id": "665d0c35",
   "metadata": {},
   "source": [
    "# Читанием исходный DataFrame (df) из файла"
   ]
  },
  {
   "cell_type": "code",
   "execution_count": 2,
   "id": "61ac00e3",
   "metadata": {},
   "outputs": [],
   "source": [
    "df = pd.read_csv(\"data/unclean_smartwatch_health_data.csv\")"
   ]
  },
  {
   "cell_type": "markdown",
   "id": "0a90c421",
   "metadata": {},
   "source": [
    "# Подготовка данных, группировка и избавление от пропусков"
   ]
  },
  {
   "cell_type": "markdown",
   "id": "3bd1d9a4",
   "metadata": {},
   "source": [
    "## Проводим группировку в столбце Activity Level"
   ]
  },
  {
   "cell_type": "markdown",
   "id": "6c62031c",
   "metadata": {},
   "source": [
    "### Функция для нормализации значений в столбце Activity Level"
   ]
  },
  {
   "cell_type": "code",
   "execution_count": 3,
   "id": "52bd1d4c",
   "metadata": {},
   "outputs": [],
   "source": [
    "def activity_level_group(x):\n",
    "  if x in ['Highly_Active', 'Highly Active']:    # исправляем опечатки\n",
    "    return 'Highly Active'                       # и\n",
    "  if x in ['Seddentary', 'Sedentary']:           # приводим  к общему \n",
    "    return 'Sedentary'                           # виду значения в столбце\n",
    "  if x in ['Actve', 'Active']:\n",
    "    return 'Active'\n",
    "  return x"
   ]
  },
  {
   "cell_type": "markdown",
   "id": "df454666",
   "metadata": {},
   "source": [
    "### Вызываем функцию для нормализации значений и выводим новые уникальные значения"
   ]
  },
  {
   "cell_type": "code",
   "execution_count": 4,
   "id": "8df7461b",
   "metadata": {},
   "outputs": [
    {
     "data": {
      "text/plain": [
       "Activity Level\n",
       "Sedentary        3333\n",
       "Active           3265\n",
       "Highly Active    3202\n",
       "NaN               200\n",
       "Name: count, dtype: int64"
      ]
     },
     "execution_count": 4,
     "metadata": {},
     "output_type": "execute_result"
    }
   ],
   "source": [
    "df['Activity Level'] = df['Activity Level'].apply(activity_level_group)  # вызов функции\n",
    "df['Activity Level'].value_counts(dropna=False)"
   ]
  },
  {
   "cell_type": "markdown",
   "id": "ae2ba6d3",
   "metadata": {},
   "source": [
    "## Просмотр типов данных по каждому столбцу"
   ]
  },
  {
   "cell_type": "code",
   "execution_count": 5,
   "id": "43e83909",
   "metadata": {},
   "outputs": [
    {
     "data": {
      "text/plain": [
       "User ID                   float64\n",
       "Heart Rate (BPM)          float64\n",
       "Blood Oxygen Level (%)    float64\n",
       "Step Count                float64\n",
       "Sleep Duration (hours)     object\n",
       "Activity Level             object\n",
       "Stress Level               object\n",
       "dtype: object"
      ]
     },
     "execution_count": 5,
     "metadata": {},
     "output_type": "execute_result"
    }
   ],
   "source": [
    "df.dtypes"
   ]
  },
  {
   "cell_type": "markdown",
   "id": "5a5aa97d",
   "metadata": {},
   "source": [
    "## Просмотр сводной статистики всех числовых столбцов"
   ]
  },
  {
   "cell_type": "code",
   "execution_count": 6,
   "id": "f4cf5a95",
   "metadata": {},
   "outputs": [
    {
     "data": {
      "text/html": [
       "<div>\n",
       "<style scoped>\n",
       "    .dataframe tbody tr th:only-of-type {\n",
       "        vertical-align: middle;\n",
       "    }\n",
       "\n",
       "    .dataframe tbody tr th {\n",
       "        vertical-align: top;\n",
       "    }\n",
       "\n",
       "    .dataframe thead th {\n",
       "        text-align: right;\n",
       "    }\n",
       "</style>\n",
       "<table border=\"1\" class=\"dataframe\">\n",
       "  <thead>\n",
       "    <tr style=\"text-align: right;\">\n",
       "      <th></th>\n",
       "      <th>User ID</th>\n",
       "      <th>Heart Rate (BPM)</th>\n",
       "      <th>Blood Oxygen Level (%)</th>\n",
       "      <th>Step Count</th>\n",
       "    </tr>\n",
       "  </thead>\n",
       "  <tbody>\n",
       "    <tr>\n",
       "      <th>count</th>\n",
       "      <td>9799.000000</td>\n",
       "      <td>9600.000000</td>\n",
       "      <td>9700.000000</td>\n",
       "      <td>9900.000000</td>\n",
       "    </tr>\n",
       "    <tr>\n",
       "      <th>mean</th>\n",
       "      <td>3007.480253</td>\n",
       "      <td>76.035462</td>\n",
       "      <td>97.841581</td>\n",
       "      <td>6985.685885</td>\n",
       "    </tr>\n",
       "    <tr>\n",
       "      <th>std</th>\n",
       "      <td>1150.581542</td>\n",
       "      <td>19.412483</td>\n",
       "      <td>1.732863</td>\n",
       "      <td>6885.809680</td>\n",
       "    </tr>\n",
       "    <tr>\n",
       "      <th>min</th>\n",
       "      <td>1001.000000</td>\n",
       "      <td>40.000000</td>\n",
       "      <td>90.791208</td>\n",
       "      <td>0.910138</td>\n",
       "    </tr>\n",
       "    <tr>\n",
       "      <th>25%</th>\n",
       "      <td>1997.500000</td>\n",
       "      <td>64.890152</td>\n",
       "      <td>96.662683</td>\n",
       "      <td>2021.039657</td>\n",
       "    </tr>\n",
       "    <tr>\n",
       "      <th>50%</th>\n",
       "      <td>2998.000000</td>\n",
       "      <td>75.220601</td>\n",
       "      <td>98.010642</td>\n",
       "      <td>4962.534599</td>\n",
       "    </tr>\n",
       "    <tr>\n",
       "      <th>75%</th>\n",
       "      <td>4004.000000</td>\n",
       "      <td>85.198249</td>\n",
       "      <td>99.376179</td>\n",
       "      <td>9724.902880</td>\n",
       "    </tr>\n",
       "    <tr>\n",
       "      <th>max</th>\n",
       "      <td>4999.000000</td>\n",
       "      <td>296.593970</td>\n",
       "      <td>100.000000</td>\n",
       "      <td>62486.690753</td>\n",
       "    </tr>\n",
       "  </tbody>\n",
       "</table>\n",
       "</div>"
      ],
      "text/plain": [
       "           User ID  Heart Rate (BPM)  Blood Oxygen Level (%)    Step Count\n",
       "count  9799.000000       9600.000000             9700.000000   9900.000000\n",
       "mean   3007.480253         76.035462               97.841581   6985.685885\n",
       "std    1150.581542         19.412483                1.732863   6885.809680\n",
       "min    1001.000000         40.000000               90.791208      0.910138\n",
       "25%    1997.500000         64.890152               96.662683   2021.039657\n",
       "50%    2998.000000         75.220601               98.010642   4962.534599\n",
       "75%    4004.000000         85.198249               99.376179   9724.902880\n",
       "max    4999.000000        296.593970              100.000000  62486.690753"
      ]
     },
     "execution_count": 6,
     "metadata": {},
     "output_type": "execute_result"
    }
   ],
   "source": [
    "df.describe()"
   ]
  },
  {
   "cell_type": "markdown",
   "id": "0257a093",
   "metadata": {},
   "source": [
    "## Убираем отсутствующих значения"
   ]
  },
  {
   "cell_type": "markdown",
   "id": "3154f518",
   "metadata": {},
   "source": [
    "### Просмотр количества отсутсвующих значений по всем столбцам"
   ]
  },
  {
   "cell_type": "code",
   "execution_count": 7,
   "id": "8c30bf72",
   "metadata": {},
   "outputs": [
    {
     "data": {
      "text/plain": [
       "User ID                   201\n",
       "Heart Rate (BPM)          400\n",
       "Blood Oxygen Level (%)    300\n",
       "Step Count                100\n",
       "Sleep Duration (hours)    150\n",
       "Activity Level            200\n",
       "Stress Level              200\n",
       "dtype: int64"
      ]
     },
     "execution_count": 7,
     "metadata": {},
     "output_type": "execute_result"
    }
   ],
   "source": [
    "df.isnull().sum()"
   ]
  },
  {
   "cell_type": "markdown",
   "id": "4b4d3f67",
   "metadata": {},
   "source": [
    "### Заменяем все пропуски в столбце User ID случайными числами"
   ]
  },
  {
   "cell_type": "code",
   "execution_count": 8,
   "id": "5ab4a398",
   "metadata": {},
   "outputs": [
    {
     "data": {
      "text/plain": [
       "User ID                     0\n",
       "Heart Rate (BPM)          400\n",
       "Blood Oxygen Level (%)    300\n",
       "Step Count                100\n",
       "Sleep Duration (hours)    150\n",
       "Activity Level            200\n",
       "Stress Level              200\n",
       "dtype: int64"
      ]
     },
     "execution_count": 8,
     "metadata": {},
     "output_type": "execute_result"
    }
   ],
   "source": [
    "df[\"User ID\"] = df['User ID'].transform(lambda x: np.random.rand())\n",
    "df.isnull().sum() # просмотр количества отсутствующих значений по столбцам"
   ]
  },
  {
   "cell_type": "markdown",
   "id": "35c8b0a4",
   "metadata": {},
   "source": [
    "### Заменяем пропущенные значения в остальных столбцах средними значениями, рассчитанными для соответствующих групп"
   ]
  },
  {
   "cell_type": "markdown",
   "id": "863792a2",
   "metadata": {},
   "source": [
    "#### Столбец Heart Rate (BPM)"
   ]
  },
  {
   "cell_type": "code",
   "execution_count": 9,
   "id": "78787f4a",
   "metadata": {},
   "outputs": [
    {
     "data": {
      "text/plain": [
       "User ID                     0\n",
       "Heart Rate (BPM)            0\n",
       "Blood Oxygen Level (%)    300\n",
       "Step Count                100\n",
       "Sleep Duration (hours)    150\n",
       "Activity Level            200\n",
       "Stress Level              200\n",
       "dtype: int64"
      ]
     },
     "execution_count": 9,
     "metadata": {},
     "output_type": "execute_result"
    }
   ],
   "source": [
    "# разделяем DataFrame на группы на основе значений в столбцах 'Activity Level', 'Stress Level'\n",
    "# и 'Sleep Duration (hours)'\n",
    "df['Heart Rate (BPM)'] = df.groupby(['Activity Level','Stress Level'],\n",
    "                                     # заменяем пропуски средним значением для каждой группы\n",
    "                                          dropna=False)['Heart Rate (BPM)'].transform(lambda x: x.fillna(x.mean()))\n",
    "df.isnull().sum()  # просмотр количества отсуктствующих значений по столбцам"
   ]
  },
  {
   "cell_type": "markdown",
   "id": "fbd51d64",
   "metadata": {},
   "source": [
    "#### Столбец Blood Oxygen Level (%)"
   ]
  },
  {
   "cell_type": "code",
   "execution_count": 10,
   "id": "fe46c891",
   "metadata": {},
   "outputs": [
    {
     "data": {
      "text/plain": [
       "User ID                     0\n",
       "Heart Rate (BPM)            0\n",
       "Blood Oxygen Level (%)      0\n",
       "Step Count                100\n",
       "Sleep Duration (hours)    150\n",
       "Activity Level            200\n",
       "Stress Level              200\n",
       "dtype: int64"
      ]
     },
     "execution_count": 10,
     "metadata": {},
     "output_type": "execute_result"
    }
   ],
   "source": [
    "# разделяем DataFrame на группы на основе значений в столбце 'Activity Level'\n",
    "df['Blood Oxygen Level (%)'] = df.groupby(['Activity Level'],\n",
    "                                     # заменяем пропуски средним значением для каждой группы\n",
    "                                          dropna=False)['Blood Oxygen Level (%)'].transform(lambda x: x.fillna(x.mean()))\n",
    "df.isnull().sum()  # просмотр количества отсуктствующих значений по столбцам"
   ]
  },
  {
   "cell_type": "markdown",
   "id": "1b06b557",
   "metadata": {},
   "source": [
    "#### Столбец Step Count"
   ]
  },
  {
   "cell_type": "code",
   "execution_count": 11,
   "id": "6f4aa776",
   "metadata": {},
   "outputs": [
    {
     "data": {
      "text/plain": [
       "User ID                     0\n",
       "Heart Rate (BPM)            0\n",
       "Blood Oxygen Level (%)      0\n",
       "Step Count                  0\n",
       "Sleep Duration (hours)    150\n",
       "Activity Level            200\n",
       "Stress Level              200\n",
       "dtype: int64"
      ]
     },
     "execution_count": 11,
     "metadata": {},
     "output_type": "execute_result"
    }
   ],
   "source": [
    "# разделяем DataFrame на группы на основе значений в столбце 'Activity Level'\n",
    "df['Step Count'] = df.groupby(['Activity Level'],\n",
    "                                     # заменяем пропуски средним значением для каждой группы\n",
    "                                          dropna=False)['Step Count'].transform(lambda x: x.fillna(x.mean()))\n",
    "df.isnull().sum()  # просмотр количества отсуктствующих значений по столбцам"
   ]
  },
  {
   "cell_type": "markdown",
   "id": "f4955b04",
   "metadata": {},
   "source": [
    "#### Просмотр доли пропусков по каждому столбцу"
   ]
  },
  {
   "cell_type": "code",
   "execution_count": 12,
   "id": "a2338f4d",
   "metadata": {},
   "outputs": [
    {
     "data": {
      "text/plain": [
       "Stress Level              0.020\n",
       "Activity Level            0.020\n",
       "Sleep Duration (hours)    0.015\n",
       "Blood Oxygen Level (%)    0.000\n",
       "Heart Rate (BPM)          0.000\n",
       "User ID                   0.000\n",
       "Step Count                0.000\n",
       "dtype: float64"
      ]
     },
     "execution_count": 12,
     "metadata": {},
     "output_type": "execute_result"
    }
   ],
   "source": [
    "df.isna().mean().sort_values(ascending=False)"
   ]
  },
  {
   "cell_type": "markdown",
   "id": "35abc286",
   "metadata": {},
   "source": [
    "#### Столбец Sleep Duration (hours)"
   ]
  },
  {
   "cell_type": "markdown",
   "id": "800ea4b3",
   "metadata": {},
   "source": [
    "##### Просмотр типа данных в столбце"
   ]
  },
  {
   "cell_type": "code",
   "execution_count": 13,
   "id": "abfb2780",
   "metadata": {},
   "outputs": [
    {
     "data": {
      "text/plain": [
       "dtype('O')"
      ]
     },
     "execution_count": 13,
     "metadata": {},
     "output_type": "execute_result"
    }
   ],
   "source": [
    "df['Sleep Duration (hours)'].dtypes"
   ]
  },
  {
   "cell_type": "markdown",
   "id": "d767eea3",
   "metadata": {},
   "source": [
    "##### Просмотр уникальных значений в столбце"
   ]
  },
  {
   "cell_type": "code",
   "execution_count": 14,
   "id": "0f478e8a",
   "metadata": {},
   "outputs": [
    {
     "data": {
      "text/plain": [
       "Sleep Duration (hours)\n",
       "ERROR                 247\n",
       "NaN                   150\n",
       "8.021722201567524       1\n",
       "5.814348465914493       1\n",
       "5.691001039740254       1\n",
       "                     ... \n",
       "7.144240087818028       1\n",
       "7.462106906129147       1\n",
       "4.546930592918312       1\n",
       "3.9578798403336597      1\n",
       "8.531278990913485       1\n",
       "Name: count, Length: 9605, dtype: int64"
      ]
     },
     "execution_count": 14,
     "metadata": {},
     "output_type": "execute_result"
    }
   ],
   "source": [
    "df['Sleep Duration (hours)'].value_counts(dropna=False)"
   ]
  },
  {
   "cell_type": "markdown",
   "id": "5a9e127b",
   "metadata": {},
   "source": [
    "##### Преобразование столбца в числовой формат"
   ]
  },
  {
   "cell_type": "code",
   "execution_count": 15,
   "id": "bbc9e94c",
   "metadata": {},
   "outputs": [],
   "source": [
    "df['Sleep Duration (hours)'] = pd.to_numeric(df['Sleep Duration (hours)'], downcast=\"float\", errors='coerce') "
   ]
  },
  {
   "cell_type": "markdown",
   "id": "614d3ea2",
   "metadata": {},
   "source": [
    "##### Просмотр типов данных по столбцам"
   ]
  },
  {
   "cell_type": "code",
   "execution_count": 16,
   "id": "810fb521",
   "metadata": {},
   "outputs": [
    {
     "data": {
      "text/plain": [
       "User ID                   float64\n",
       "Heart Rate (BPM)          float64\n",
       "Blood Oxygen Level (%)    float64\n",
       "Step Count                float64\n",
       "Sleep Duration (hours)    float32\n",
       "Activity Level             object\n",
       "Stress Level               object\n",
       "dtype: object"
      ]
     },
     "execution_count": 16,
     "metadata": {},
     "output_type": "execute_result"
    }
   ],
   "source": [
    "df.dtypes"
   ]
  },
  {
   "cell_type": "markdown",
   "id": "2f6af4f6",
   "metadata": {},
   "source": [
    "##### Просмотр уникальных значений в столбце"
   ]
  },
  {
   "cell_type": "code",
   "execution_count": 17,
   "id": "9016c87b",
   "metadata": {},
   "outputs": [
    {
     "data": {
      "text/plain": [
       "Sleep Duration (hours)\n",
       "NaN         397\n",
       "5.531864      2\n",
       "7.596694      2\n",
       "5.691001      1\n",
       "6.276536      1\n",
       "           ... \n",
       "7.144240      1\n",
       "7.462107      1\n",
       "4.546931      1\n",
       "3.957880      1\n",
       "8.021722      1\n",
       "Name: count, Length: 9602, dtype: int64"
      ]
     },
     "execution_count": 17,
     "metadata": {},
     "output_type": "execute_result"
    }
   ],
   "source": [
    "df['Sleep Duration (hours)'].value_counts(dropna=False)"
   ]
  },
  {
   "cell_type": "markdown",
   "id": "fcbeba90",
   "metadata": {},
   "source": [
    "##### Заменяем пропущенные значения в столбце средними значениями, рассчитанными для соответствующих групп"
   ]
  },
  {
   "cell_type": "code",
   "execution_count": 18,
   "id": "6cbab126",
   "metadata": {},
   "outputs": [
    {
     "data": {
      "text/plain": [
       "User ID                     0\n",
       "Heart Rate (BPM)            0\n",
       "Blood Oxygen Level (%)      0\n",
       "Step Count                  0\n",
       "Sleep Duration (hours)      0\n",
       "Activity Level            200\n",
       "Stress Level              200\n",
       "dtype: int64"
      ]
     },
     "execution_count": 18,
     "metadata": {},
     "output_type": "execute_result"
    }
   ],
   "source": [
    "# разделяем DataFrame на группы на основе значений в столбцах 'Activity Level' и 'Stress Level'\n",
    "df['Sleep Duration (hours)'] = df.groupby(['Activity Level','Stress Level'],\n",
    "                                          dropna=False)['Sleep Duration (hours)'].transform(lambda x: x.fillna(x.mean()))\n",
    "df.isnull().sum()   # просмотр количества отсуктствующих значений по столбцам"
   ]
  },
  {
   "cell_type": "markdown",
   "id": "95a553c5",
   "metadata": {},
   "source": [
    "#### Просмотр размера DataFrame(df)"
   ]
  },
  {
   "cell_type": "code",
   "execution_count": 19,
   "id": "8d42438c",
   "metadata": {},
   "outputs": [
    {
     "data": {
      "text/plain": [
       "10000"
      ]
     },
     "execution_count": 19,
     "metadata": {},
     "output_type": "execute_result"
    }
   ],
   "source": [
    "len(df)"
   ]
  },
  {
   "cell_type": "markdown",
   "id": "57bc10cd",
   "metadata": {},
   "source": [
    "#### Удаляем отсутствующие значения в остальных столбцах"
   ]
  },
  {
   "cell_type": "code",
   "execution_count": 21,
   "id": "9d9b483d",
   "metadata": {},
   "outputs": [],
   "source": [
    "df = df.dropna()"
   ]
  },
  {
   "cell_type": "markdown",
   "id": "eb77362e",
   "metadata": {},
   "source": [
    "#### Просмотр новой длины DataFrame(df)"
   ]
  },
  {
   "cell_type": "code",
   "execution_count": 22,
   "id": "6c9dae32",
   "metadata": {},
   "outputs": [
    {
     "data": {
      "text/plain": [
       "9603"
      ]
     },
     "execution_count": 22,
     "metadata": {},
     "output_type": "execute_result"
    }
   ],
   "source": [
    "len(df)"
   ]
  }
 ],
 "metadata": {
  "kernelspec": {
   "display_name": ".venv",
   "language": "python",
   "name": "python3"
  },
  "language_info": {
   "codemirror_mode": {
    "name": "ipython",
    "version": 3
   },
   "file_extension": ".py",
   "mimetype": "text/x-python",
   "name": "python",
   "nbconvert_exporter": "python",
   "pygments_lexer": "ipython3",
   "version": "3.13.3"
  }
 },
 "nbformat": 4,
 "nbformat_minor": 5
}
